{
 "cells": [
  {
   "cell_type": "code",
   "execution_count": 83,
   "metadata": {},
   "outputs": [
    {
     "name": "stdout",
     "output_type": "stream",
     "text": [
      "Ultralytics YOLOv8.2.9  Python-3.10.6 torch-2.3.0+cpu CPU (Intel Core(TM) i5-4460  3.20GHz)\n",
      "Setup complete  (4 CPUs, 15.9 GB RAM, 493.5/931.5 GB disk)\n"
     ]
    }
   ],
   "source": [
    "import ultralytics\n",
    "ultralytics.checks()\n"
   ]
  },
  {
   "cell_type": "code",
   "execution_count": 84,
   "metadata": {},
   "outputs": [],
   "source": [
    "import os\n",
    "import matplotlib.pyplot as plt\n",
    "from PIL import Image\n",
    "from ultralytics import YOLO"
   ]
  },
  {
   "cell_type": "code",
   "execution_count": 3,
   "metadata": {},
   "outputs": [
    {
     "name": "stdout",
     "output_type": "stream",
     "text": [
      "{'Afghanistan': 0, 'Albania': 1, 'Algeria': 2, 'Andorra': 3, 'Angola': 4, 'Antigua and Barbuda': 5, 'Argentina': 6, 'Armenia': 7, 'Australia': 8, 'Austria': 9, 'Azerbaijan': 10, 'Bahamas': 11, 'Bahrain': 12, 'Bangladesh': 13, 'Barbados': 14, 'Belarus': 15, 'Belgium': 16, 'Belize': 17, 'Benin': 18, 'Bhutan': 19, 'Bolivia': 20, 'Bosnia and Herzegovina': 21, 'Botswana': 22, 'Brazil': 23, 'Brunei': 24, 'Bulgaria': 25, 'Burkina Faso': 26, 'Burundi': 27, 'CA-te d-Ivoire': 28, 'Cabo Verde': 29, 'Cambodia': 30, 'Cameroon': 31, 'Canada': 32, 'Central African Republic': 33, 'Chad': 34, 'Chile': 35, 'China': 36, 'Colombia': 37, 'Comoros': 38, 'Congo -Congo-Brazzaville-': 39, 'Costa Rica': 40, 'Croatia': 41, 'Cuba': 42, 'Cyprus': 43, 'Czechia -Czech Republic-': 44, 'Democratic Republic of the Congo': 45, 'Denmark': 46, 'Djibouti': 47, 'Dominica': 48, 'Dominican Republic': 49, 'Ecuador': 50, 'Egypt': 51, 'El Salvador': 52, 'Equatorial Guinea': 53, 'Eritrea': 54, 'Estonia': 55, 'Eswatini -fmr- -Swaziland--': 56, 'Ethiopia': 57, 'Fiji': 58, 'Finland': 59, 'France': 60, 'Gabon': 61, 'Gambia': 62, 'Georgia': 63, 'Germany': 64, 'Ghana': 65, 'Greece': 66, 'Grenada': 67, 'Guatemala': 68, 'Guinea': 69, 'Guinea-Bissau': 70, 'Guyana': 71, 'Haiti': 72, 'Holy See': 73, 'Honduras': 74, 'Hungary': 75, 'Iceland': 76, 'India': 77, 'Indonesia': 78, 'Iran': 79, 'Iraq': 80, 'Ireland': 81, 'Israel': 82, 'Italy': 83, 'Jamaica': 84, 'Japan': 85, 'Jordan': 86, 'Kazakhstan': 87, 'Kenya': 88, 'Kiribati': 89, 'Kuwait': 90, 'Kyrgyzstan': 91, 'Laos': 92, 'Latvia': 93, 'Lebanon': 94, 'Lesotho': 95, 'Liberia': 96, 'Libya': 97, 'Liechtenstein': 98, 'Lithuania': 99, 'Luxembourg': 100, 'Madagascar': 101, 'Malawi': 102, 'Malaysia': 103, 'Maldives': 104, 'Mali': 105, 'Malta': 106, 'Marshall Islands': 107, 'Mauritania': 108, 'Mauritius': 109, 'Mexico': 110, 'Micronesia': 111, 'Moldova': 112, 'Monaco': 113, 'Mongolia': 114, 'Montenegro': 115, 'Morocco': 116, 'Mozambique': 117, 'Myanmar -formerly Burma-': 118, 'Namibia': 119, 'Nauru': 120, 'Nepal': 121, 'Netherlands': 122, 'New Zealand': 123, 'Nicaragua': 124, 'Niger': 125, 'Nigeria': 126, 'North Korea': 127, 'North Macedonia': 128, 'Norway': 129, 'Oman': 130, 'Pakistan': 131, 'Palau': 132, 'Palestine State': 133, 'Panama': 134, 'Papua New Guinea': 135, 'Paraguay': 136, 'Peru': 137, 'Philippines': 138, 'Poland': 139, 'Portugal': 140, 'Qatar': 141, 'Romania': 142, 'Russia': 143, 'Rwanda': 144, 'Saint Kitts and Nevis': 145, 'Saint Lucia': 146, 'Saint Vincent and the Grenadines': 147, 'Samoa': 148, 'San Marino': 149, 'Sao Tome and Principe': 150, 'Saudi Arabia': 151, 'Senegal': 152, 'Serbia': 153, 'Seychelles': 154, 'Sierra Leone': 155, 'Singapore': 156, 'Slovakia': 157, 'Slovenia': 158, 'Solomon Islands': 159, 'Somalia': 160, 'South Africa': 161, 'South Korea': 162, 'South Sudan': 163, 'Spain': 164, 'Sri Lanka': 165, 'Sudan': 166, 'Suriname': 167, 'Sweden': 168, 'Switzerland': 169, 'Syria': 170, 'Tajikistan': 171, 'Tanzania': 172, 'Thailand': 173, 'Timor-Leste': 174, 'Togo': 175, 'Tonga': 176, 'Trinidad and Tobago': 177, 'Tunisia': 178, 'Turkey': 179, 'Turkmenistan': 180, 'Tuvalu': 181, 'Uganda': 182, 'Ukraine': 183, 'United Arab Emirates': 184, 'United Kingdom': 185, 'United States of America': 186, 'Uruguay': 187, 'Uzbekistan': 188, 'Vanuatu': 189, 'Venezuela': 190, 'Vietnam': 191, 'Yemen': 192, 'Zambia': 193, 'Zimbabwe': 194}\n"
     ]
    }
   ],
   "source": [
    "# Change list of classes to dict\n",
    "\n",
    "classes = ['Afghanistan', 'Albania', 'Algeria', 'Andorra', 'Angola', 'Antigua and Barbuda', 'Argentina', 'Armenia', 'Australia', 'Austria', 'Azerbaijan', 'Bahamas', 'Bahrain', 'Bangladesh', 'Barbados', 'Belarus', 'Belgium', 'Belize', 'Benin', 'Bhutan', 'Bolivia', 'Bosnia and Herzegovina', 'Botswana', 'Brazil', 'Brunei', 'Bulgaria', 'Burkina Faso', 'Burundi', 'CA-te d-Ivoire', 'Cabo Verde', 'Cambodia', 'Cameroon', 'Canada', 'Central African Republic', 'Chad', 'Chile', 'China', 'Colombia', 'Comoros', 'Congo -Congo-Brazzaville-', 'Costa Rica', 'Croatia', 'Cuba', 'Cyprus', 'Czechia -Czech Republic-', 'Democratic Republic of the Congo', 'Denmark', 'Djibouti', 'Dominica', 'Dominican Republic', 'Ecuador', 'Egypt', 'El Salvador', 'Equatorial Guinea', 'Eritrea', 'Estonia', 'Eswatini -fmr- -Swaziland--', 'Ethiopia', 'Fiji', 'Finland', 'France', 'Gabon', 'Gambia', 'Georgia', 'Germany', 'Ghana', 'Greece', 'Grenada', 'Guatemala', 'Guinea', 'Guinea-Bissau', 'Guyana', 'Haiti', 'Holy See', 'Honduras', 'Hungary', 'Iceland', 'India', 'Indonesia', 'Iran', 'Iraq', 'Ireland', 'Israel', 'Italy', 'Jamaica', 'Japan', 'Jordan', 'Kazakhstan', 'Kenya', 'Kiribati', 'Kuwait', 'Kyrgyzstan', 'Laos', 'Latvia', 'Lebanon', 'Lesotho', 'Liberia', 'Libya', 'Liechtenstein', 'Lithuania', 'Luxembourg', 'Madagascar', 'Malawi', 'Malaysia', 'Maldives', 'Mali', 'Malta', 'Marshall Islands', 'Mauritania', 'Mauritius', 'Mexico', 'Micronesia', 'Moldova', 'Monaco', 'Mongolia', 'Montenegro', 'Morocco', 'Mozambique', 'Myanmar -formerly Burma-', 'Namibia', 'Nauru', 'Nepal', 'Netherlands', 'New Zealand', 'Nicaragua', 'Niger', 'Nigeria', 'North Korea', 'North Macedonia', 'Norway', 'Oman', 'Pakistan', 'Palau', 'Palestine State', 'Panama', 'Papua New Guinea', 'Paraguay', 'Peru', 'Philippines', 'Poland', 'Portugal', 'Qatar', 'Romania', 'Russia', 'Rwanda', 'Saint Kitts and Nevis', 'Saint Lucia', 'Saint Vincent and the Grenadines', 'Samoa', 'San Marino', 'Sao Tome and Principe', 'Saudi Arabia', 'Senegal', 'Serbia', 'Seychelles', 'Sierra Leone', 'Singapore', 'Slovakia', 'Slovenia', 'Solomon Islands', 'Somalia', 'South Africa', 'South Korea', 'South Sudan', 'Spain', 'Sri Lanka', 'Sudan', 'Suriname', 'Sweden', 'Switzerland', 'Syria', 'Tajikistan', 'Tanzania', 'Thailand', 'Timor-Leste', 'Togo', 'Tonga', 'Trinidad and Tobago', 'Tunisia', 'Turkey', 'Turkmenistan', 'Tuvalu', 'Uganda', 'Ukraine', 'United Arab Emirates', 'United Kingdom', 'United States of America', 'Uruguay', 'Uzbekistan', 'Vanuatu', 'Venezuela', 'Vietnam', 'Yemen', 'Zambia', 'Zimbabwe']\n",
    "classes_dict = {}\n",
    "for i, class_name in enumerate(classes):\n",
    "    classes_dict[class_name] = i\n",
    "\n",
    "print(classes_dict)\n"
   ]
  },
  {
   "cell_type": "code",
   "execution_count": 51,
   "metadata": {},
   "outputs": [
    {
     "name": "stdout",
     "output_type": "stream",
     "text": [
      "Argentina\n"
     ]
    }
   ],
   "source": [
    "def find_country_by_id(id_num, class_dict):\n",
    "    for country, value in class_dict.items():\n",
    "        if value == id_num:\n",
    "            return country\n",
    "    return \"Nie ma kraju o podanym numerze.\"\n",
    "\n",
    "print(find_country_by_id(6, classes_dict))"
   ]
  },
  {
   "cell_type": "markdown",
   "metadata": {},
   "source": [
    "Check boxes on image"
   ]
  },
  {
   "cell_type": "code",
   "execution_count": 68,
   "metadata": {},
   "outputs": [
    {
     "data": {
      "image/png": "[encoded data removed]",
      "text/plain": [
       "<Figure size 640x480 with 1 Axes>"
      ]
     },
     "metadata": {},
     "output_type": "display_data"
    }
   ],
   "source": [
    "def draw_boxes_on_image(image_path, label_path, classes):\n",
    "    image = Image.open(image_path)\n",
    "\n",
    "    fig, ax = plt.subplots(1)\n",
    "    ax.imshow(image)\n",
    "\n",
    "    with open(label_path, 'r') as txt_file:\n",
    "        for line in txt_file:\n",
    "            values = line.strip().split(' ')\n",
    "            class_id, x_center, y_center, width, height = map(float, values[0:5])\n",
    "\n",
    "            # Transform yolo to image size\n",
    "            image_width, image_height = image.size\n",
    "            x_center *= image_width\n",
    "            y_center *= image_height\n",
    "            width *= image_width\n",
    "            height *= image_height\n",
    "\n",
    "            # Calculate coordinates of bbox\n",
    "            x_min = x_center - width / 2\n",
    "            y_min = y_center - height / 2\n",
    "            rect_width = width\n",
    "            rect_height = height\n",
    "\n",
    "            # Draw rectangle\n",
    "            rect = plt.Rectangle((x_min, y_min), rect_width, rect_height, linewidth=2, edgecolor='red', facecolor='none')\n",
    "            ax.add_patch(rect)\n",
    "\n",
    "            # Add class label\n",
    "            for flag, id in classes.items():\n",
    "                if id == class_id:\n",
    "                    class_flag = flag\n",
    "\n",
    "            plt.text(x_min, y_min - 10, f'Class {int(class_id)}: {class_flag}', color='red')\n",
    "\n",
    "    plt.show()\n",
    "\n",
    "image_filepath = 'E:/pycharmik/geotastic_with_AI/datasets/test/images/3_g0_208_jpg.rf.141e39330449c85ad7275a6d1915289e.jpg'\n",
    "label_filepath = 'E:/pycharmik/geotastic_with_AI/datasets/test/labels/3_g0_208_jpg.rf.141e39330449c85ad7275a6d1915289e.txt'\n",
    "\n",
    "draw_boxes_on_image(image_filepath, label_filepath, classes_dict)\n"
   ]
  },
  {
   "cell_type": "markdown",
   "metadata": {},
   "source": [
    "Split the dataset into train-valid-test "
   ]
  },
  {
   "cell_type": "code",
   "execution_count": 69,
   "metadata": {},
   "outputs": [],
   "source": [
    "test_images = [os.path.join('datasets/test/images', x) for x in os.listdir('datasets/test/images')]\n",
    "test_annotations = [os.path.join('datasets/test/labels', x) for x in os.listdir('datasets/test/labels')]\n",
    "\n",
    "train_images = [os.path.join('datasets/train/images', x) for x in os.listdir('datasets/train/images')]\n",
    "train_annotations = [os.path.join('datasets/train/labels', x) for x in os.listdir('datasets/train/labels')]\n",
    "\n",
    "val_images = [os.path.join('datasets/valid/images', x) for x in os.listdir('datasets/valid/images')]\n",
    "val_annotations =[os.path.join('datasets/valid/labels', x) for x in os.listdir('datasets/valid/labels')]\n"
   ]
  },
  {
   "cell_type": "code",
   "execution_count": 70,
   "metadata": {},
   "outputs": [
    {
     "name": "stdout",
     "output_type": "stream",
     "text": [
      "['datasets/test/images\\\\100_g0_144_jpg.rf.ace30659400414b2a743d2de2e50470f.jpg', 'datasets/test/images\\\\100_g0_160_jpg.rf.492224ebc85885c5444959c5aea3cc9c.jpg', 'datasets/test/images\\\\100_g0_256_jpg.rf.cc2ac55c81efa8304f8371a7bb6956ce.jpg', 'datasets/test/images\\\\100_g0_288_jpg.rf.3bd1e22ca1a820918ae6c6611c7e9acf.jpg', 'datasets/test/images\\\\100_g2_144_jpg.rf.5c0f6d32c8e0348c78a4c09ec2582e2b.jpg']\n",
      "['datasets/test/labels\\\\100_g0_144_jpg.rf.ace30659400414b2a743d2de2e50470f.txt', 'datasets/test/labels\\\\100_g0_160_jpg.rf.492224ebc85885c5444959c5aea3cc9c.txt', 'datasets/test/labels\\\\100_g0_256_jpg.rf.cc2ac55c81efa8304f8371a7bb6956ce.txt', 'datasets/test/labels\\\\100_g0_288_jpg.rf.3bd1e22ca1a820918ae6c6611c7e9acf.txt', 'datasets/test/labels\\\\100_g2_144_jpg.rf.5c0f6d32c8e0348c78a4c09ec2582e2b.txt']\n",
      "['datasets/test/images\\\\98_g0_64_jpg.rf.f853affcb76c3f90f07806df8a5e05d4.jpg', 'datasets/test/images\\\\98_g2_144_jpg.rf.f183052df998eebde6a668dde88c518c.jpg', 'datasets/test/images\\\\99_g0_240_jpg.rf.9b74b17ed3123defc5f27019cdb55336.jpg', 'datasets/test/images\\\\9_g0_208_jpg.rf.b5f8fc687404cd5200939f1072dd92b6.jpg', 'datasets/test/images\\\\9_g2_288_jpg.rf.49b665e828cfa57c714770a698e2a569.jpg']\n",
      "['datasets/test/labels\\\\98_g0_64_jpg.rf.f853affcb76c3f90f07806df8a5e05d4.txt', 'datasets/test/labels\\\\98_g2_144_jpg.rf.f183052df998eebde6a668dde88c518c.txt', 'datasets/test/labels\\\\99_g0_240_jpg.rf.9b74b17ed3123defc5f27019cdb55336.txt', 'datasets/test/labels\\\\9_g0_208_jpg.rf.b5f8fc687404cd5200939f1072dd92b6.txt', 'datasets/test/labels\\\\9_g2_288_jpg.rf.49b665e828cfa57c714770a698e2a569.txt']\n"
     ]
    }
   ],
   "source": [
    "print(test_images[:5])\n",
    "print(test_annotations[:5])\n",
    "print(test_images[-5:])\n",
    "print(test_annotations[-5:])"
   ]
  },
  {
   "cell_type": "code",
   "execution_count": 71,
   "metadata": {},
   "outputs": [
    {
     "name": "stdout",
     "output_type": "stream",
     "text": [
      "14918\n",
      "14918\n",
      "1989\n",
      "1989\n",
      "497\n",
      "497\n"
     ]
    }
   ],
   "source": [
    "print(len(train_images))\n",
    "print(len(train_annotations))\n",
    "print(len(val_images))\n",
    "print(len(val_annotations))\n",
    "print(len(test_images))\n",
    "print(len(test_annotations))"
   ]
  },
  {
   "cell_type": "markdown",
   "metadata": {},
   "source": [
    "Train dataset using yolov8"
   ]
  },
  {
   "cell_type": "code",
   "execution_count": 88,
   "metadata": {},
   "outputs": [
    {
     "name": "stdout",
     "output_type": "stream",
     "text": [
      "New https://pypi.org/project/ultralytics/8.2.10 available  Update with 'pip install -U ultralytics'\n",
      "Ultralytics YOLOv8.2.9  Python-3.10.6 torch-2.3.0+cpu CPU (Intel Core(TM) i5-4460  3.20GHz)\n",
      "\u001b[34m\u001b[1mengine\\trainer: \u001b[0mtask=classify, mode=train, model=yolov8n-cls.pt, data=datasets/, epochs=50, time=None, patience=100, batch=16, imgsz=224, save=True, save_period=-1, cache=False, device=None, workers=8, project=None, name=train6, exist_ok=False, pretrained=True, optimizer=auto, verbose=True, seed=0, deterministic=True, single_cls=False, rect=False, cos_lr=False, close_mosaic=10, resume=False, amp=True, fraction=1.0, profile=False, freeze=None, multi_scale=False, overlap_mask=True, mask_ratio=4, dropout=0.0, val=True, split=val, save_json=False, save_hybrid=False, conf=None, iou=0.7, max_det=300, half=False, dnn=False, plots=True, source=None, vid_stride=1, stream_buffer=False, visualize=False, augment=False, agnostic_nms=False, classes=None, retina_masks=False, embed=None, show=False, save_frames=False, save_txt=False, save_conf=False, save_crop=False, show_labels=True, show_conf=True, show_boxes=True, line_width=None, format=torchscript, keras=False, optimize=False, int8=False, dynamic=False, simplify=False, opset=None, workspace=4, nms=False, lr0=0.01, lrf=0.01, momentum=0.937, weight_decay=0.0005, warmup_epochs=3.0, warmup_momentum=0.8, warmup_bias_lr=0.1, box=7.5, cls=0.5, dfl=1.5, pose=12.0, kobj=1.0, label_smoothing=0.0, nbs=64, hsv_h=0.015, hsv_s=0.7, hsv_v=0.4, degrees=0.0, translate=0.1, scale=0.5, shear=0.0, perspective=0.0, flipud=0.0, fliplr=0.5, bgr=0.0, mosaic=1.0, mixup=0.0, copy_paste=0.0, auto_augment=randaugment, erasing=0.4, crop_fraction=1.0, cfg=None, tracker=botsort.yaml, save_dir=runs\\classify\\train6\n",
      "\u001b[34m\u001b[1mtrain:\u001b[0m E:\\pycharmik\\geotastic_with_AI\\datasets\\train... found 14918 images in 195 classes  \n",
      "\u001b[34m\u001b[1mval:\u001b[0m E:\\pycharmik\\geotastic_with_AI\\datasets\\val... found 1989 images in 195 classes  \n",
      "\u001b[34m\u001b[1mtest:\u001b[0m E:\\pycharmik\\geotastic_with_AI\\datasets\\test... found 514 images in 195 classes  \n",
      "Overriding model.yaml nc=1000 with nc=195\n",
      "\n",
      "                   from  n    params  module                                       arguments                     \n",
      "  0                  -1  1       464  ultralytics.nn.modules.conv.Conv             [3, 16, 3, 2]                 \n",
      "  1                  -1  1      4672  ultralytics.nn.modules.conv.Conv             [16, 32, 3, 2]                \n",
      "  2                  -1  1      7360  ultralytics.nn.modules.block.C2f             [32, 32, 1, True]             \n",
      "  3                  -1  1     18560  ultralytics.nn.modules.conv.Conv             [32, 64, 3, 2]                \n",
      "  4                  -1  2     49664  ultralytics.nn.modules.block.C2f             [64, 64, 2, True]             \n",
      "  5                  -1  1     73984  ultralytics.nn.modules.conv.Conv             [64, 128, 3, 2]               \n",
      "  6                  -1  2    197632  ultralytics.nn.modules.block.C2f             [128, 128, 2, True]           \n",
      "  7                  -1  1    295424  ultralytics.nn.modules.conv.Conv             [128, 256, 3, 2]              \n",
      "  8                  -1  1    460288  ultralytics.nn.modules.block.C2f             [256, 256, 1, True]           \n",
      "  9                  -1  1    580035  ultralytics.nn.modules.head.Classify         [256, 195]                    \n",
      "YOLOv8n-cls summary: 99 layers, 1688083 parameters, 1688083 gradients, 3.6 GFLOPs\n",
      "Transferred 156/158 items from pretrained weights\n",
      "\u001b[34m\u001b[1mTensorBoard: \u001b[0mStart with 'tensorboard --logdir runs\\classify\\train6', view at http://localhost:6006/\n"
     ]
    },
    {
     "name": "stderr",
     "output_type": "stream",
     "text": [
      "\u001b[34m\u001b[1mtrain: \u001b[0mScanning E:\\pycharmik\\geotastic_with_AI\\datasets\\train... 14918 images, 0 corrupt: 100%|██████████| 14918/14918 [00:00<?, ?it/s]\n",
      "\u001b[34m\u001b[1mval: \u001b[0mScanning E:\\pycharmik\\geotastic_with_AI\\datasets\\val... 1989 images, 0 corrupt: 100%|██████████| 1989/1989 [00:00<?, ?it/s]"
     ]
    },
    {
     "name": "stdout",
     "output_type": "stream",
     "text": [
      "\u001b[34m\u001b[1moptimizer:\u001b[0m 'optimizer=auto' found, ignoring 'lr0=0.01' and 'momentum=0.937' and determining best 'optimizer', 'lr0' and 'momentum' automatically... \n",
      "\u001b[34m\u001b[1moptimizer:\u001b[0m SGD(lr=0.01, momentum=0.9) with parameter groups 26 weight(decay=0.0), 27 weight(decay=0.0005), 27 bias(decay=0.0)\n"
     ]
    },
    {
     "name": "stderr",
     "output_type": "stream",
     "text": [
      "\n"
     ]
    },
    {
     "name": "stdout",
     "output_type": "stream",
     "text": [
      "\u001b[34m\u001b[1mTensorBoard: \u001b[0mmodel graph visualization added \n",
      "Image sizes 224 train, 224 val\n",
      "Using 0 dataloader workers\n",
      "Logging results to \u001b[1mruns\\classify\\train6\u001b[0m\n",
      "Starting training for 50 epochs...\n",
      "\n",
      "      Epoch    GPU_mem       loss  Instances       Size\n"
     ]
    },
    {
     "name": "stderr",
     "output_type": "stream",
     "text": [
      "       1/50         0G      4.699          6        224: 100%|██████████| 933/933 [08:55<00:00,  1.74it/s]\n",
      "               classes   top1_acc   top5_acc: 100%|██████████| 63/63 [00:23<00:00,  2.71it/s]"
     ]
    },
    {
     "name": "stdout",
     "output_type": "stream",
     "text": [
      "                   all       0.55      0.822\n"
     ]
    },
    {
     "name": "stderr",
     "output_type": "stream",
     "text": [
      "\n"
     ]
    },
    {
     "name": "stdout",
     "output_type": "stream",
     "text": [
      "\n",
      "      Epoch    GPU_mem       loss  Instances       Size\n"
     ]
    },
    {
     "name": "stderr",
     "output_type": "stream",
     "text": [
      "       2/50         0G      1.633          6        224: 100%|██████████| 933/933 [07:45<00:00,  2.00it/s]\n",
      "               classes   top1_acc   top5_acc: 100%|██████████| 63/63 [00:22<00:00,  2.80it/s]"
     ]
    },
    {
     "name": "stdout",
     "output_type": "stream",
     "text": [
      "                   all      0.917      0.991\n"
     ]
    },
    {
     "name": "stderr",
     "output_type": "stream",
     "text": [
      "\n"
     ]
    },
    {
     "name": "stdout",
     "output_type": "stream",
     "text": [
      "\n",
      "      Epoch    GPU_mem       loss  Instances       Size\n"
     ]
    },
    {
     "name": "stderr",
     "output_type": "stream",
     "text": [
      "       3/50         0G       0.89          6        224: 100%|██████████| 933/933 [08:23<00:00,  1.85it/s]\n",
      "               classes   top1_acc   top5_acc: 100%|██████████| 63/63 [00:27<00:00,  2.30it/s]"
     ]
    },
    {
     "name": "stdout",
     "output_type": "stream",
     "text": [
      "                   all      0.941      0.995\n"
     ]
    },
    {
     "name": "stderr",
     "output_type": "stream",
     "text": [
      "\n"
     ]
    },
    {
     "name": "stdout",
     "output_type": "stream",
     "text": [
      "\n",
      "      Epoch    GPU_mem       loss  Instances       Size\n"
     ]
    },
    {
     "name": "stderr",
     "output_type": "stream",
     "text": [
      "       4/50         0G     0.7748          6        224: 100%|██████████| 933/933 [09:07<00:00,  1.71it/s]\n",
      "               classes   top1_acc   top5_acc: 100%|██████████| 63/63 [00:30<00:00,  2.07it/s]"
     ]
    },
    {
     "name": "stdout",
     "output_type": "stream",
     "text": [
      "                   all      0.918      0.996\n"
     ]
    },
    {
     "name": "stderr",
     "output_type": "stream",
     "text": [
      "\n"
     ]
    },
    {
     "name": "stdout",
     "output_type": "stream",
     "text": [
      "\n",
      "      Epoch    GPU_mem       loss  Instances       Size\n"
     ]
    },
    {
     "name": "stderr",
     "output_type": "stream",
     "text": [
      "       5/50         0G     0.6577          6        224: 100%|██████████| 933/933 [11:40<00:00,  1.33it/s]\n",
      "               classes   top1_acc   top5_acc: 100%|██████████| 63/63 [00:37<00:00,  1.67it/s]"
     ]
    },
    {
     "name": "stdout",
     "output_type": "stream",
     "text": [
      "                   all      0.938      0.998\n"
     ]
    },
    {
     "name": "stderr",
     "output_type": "stream",
     "text": [
      "\n"
     ]
    },
    {
     "name": "stdout",
     "output_type": "stream",
     "text": [
      "\n",
      "      Epoch    GPU_mem       loss  Instances       Size\n"
     ]
    },
    {
     "name": "stderr",
     "output_type": "stream",
     "text": [
      "       6/50         0G     0.5842          6        224: 100%|██████████| 933/933 [13:10<00:00,  1.18it/s]\n",
      "               classes   top1_acc   top5_acc: 100%|██████████| 63/63 [00:29<00:00,  2.15it/s]"
     ]
    },
    {
     "name": "stdout",
     "output_type": "stream",
     "text": [
      "                   all      0.962      0.999\n"
     ]
    },
    {
     "name": "stderr",
     "output_type": "stream",
     "text": [
      "\n"
     ]
    },
    {
     "name": "stdout",
     "output_type": "stream",
     "text": [
      "\n",
      "      Epoch    GPU_mem       loss  Instances       Size\n"
     ]
    },
    {
     "name": "stderr",
     "output_type": "stream",
     "text": [
      "       7/50         0G     0.4878          6        224: 100%|██████████| 933/933 [10:04<00:00,  1.54it/s]\n",
      "               classes   top1_acc   top5_acc: 100%|██████████| 63/63 [00:27<00:00,  2.30it/s]"
     ]
    },
    {
     "name": "stdout",
     "output_type": "stream",
     "text": [
      "                   all      0.962          1\n"
     ]
    },
    {
     "name": "stderr",
     "output_type": "stream",
     "text": [
      "\n"
     ]
    },
    {
     "name": "stdout",
     "output_type": "stream",
     "text": [
      "\n",
      "      Epoch    GPU_mem       loss  Instances       Size\n"
     ]
    },
    {
     "name": "stderr",
     "output_type": "stream",
     "text": [
      "       8/50         0G     0.4738          6        224: 100%|██████████| 933/933 [09:21<00:00,  1.66it/s]\n",
      "               classes   top1_acc   top5_acc: 100%|██████████| 63/63 [00:27<00:00,  2.29it/s]"
     ]
    },
    {
     "name": "stdout",
     "output_type": "stream",
     "text": [
      "                   all      0.981          1\n"
     ]
    },
    {
     "name": "stderr",
     "output_type": "stream",
     "text": [
      "\n"
     ]
    },
    {
     "name": "stdout",
     "output_type": "stream",
     "text": [
      "\n",
      "      Epoch    GPU_mem       loss  Instances       Size\n"
     ]
    },
    {
     "name": "stderr",
     "output_type": "stream",
     "text": [
      "       9/50         0G      0.444          6        224: 100%|██████████| 933/933 [10:02<00:00,  1.55it/s]\n",
      "               classes   top1_acc   top5_acc: 100%|██████████| 63/63 [00:29<00:00,  2.12it/s]"
     ]
    },
    {
     "name": "stdout",
     "output_type": "stream",
     "text": [
      "                   all      0.971      0.999\n"
     ]
    },
    {
     "name": "stderr",
     "output_type": "stream",
     "text": [
      "\n"
     ]
    },
    {
     "name": "stdout",
     "output_type": "stream",
     "text": [
      "\n",
      "      Epoch    GPU_mem       loss  Instances       Size\n"
     ]
    },
    {
     "name": "stderr",
     "output_type": "stream",
     "text": [
      "      10/50         0G     0.3906          6        224: 100%|██████████| 933/933 [10:05<00:00,  1.54it/s]\n",
      "               classes   top1_acc   top5_acc: 100%|██████████| 63/63 [00:28<00:00,  2.20it/s]"
     ]
    },
    {
     "name": "stdout",
     "output_type": "stream",
     "text": [
      "                   all      0.981          1\n"
     ]
    },
    {
     "name": "stderr",
     "output_type": "stream",
     "text": [
      "\n"
     ]
    },
    {
     "name": "stdout",
     "output_type": "stream",
     "text": [
      "\n",
      "      Epoch    GPU_mem       loss  Instances       Size\n"
     ]
    },
    {
     "name": "stderr",
     "output_type": "stream",
     "text": [
      "      11/50         0G     0.3897          6        224: 100%|██████████| 933/933 [10:28<00:00,  1.48it/s]\n",
      "               classes   top1_acc   top5_acc: 100%|██████████| 63/63 [00:31<00:00,  2.00it/s]"
     ]
    },
    {
     "name": "stdout",
     "output_type": "stream",
     "text": [
      "                   all       0.98          1\n"
     ]
    },
    {
     "name": "stderr",
     "output_type": "stream",
     "text": [
      "\n"
     ]
    },
    {
     "name": "stdout",
     "output_type": "stream",
     "text": [
      "\n",
      "      Epoch    GPU_mem       loss  Instances       Size\n"
     ]
    },
    {
     "name": "stderr",
     "output_type": "stream",
     "text": [
      "      12/50         0G     0.3762          6        224: 100%|██████████| 933/933 [10:14<00:00,  1.52it/s]\n",
      "               classes   top1_acc   top5_acc: 100%|██████████| 63/63 [00:29<00:00,  2.13it/s]"
     ]
    },
    {
     "name": "stdout",
     "output_type": "stream",
     "text": [
      "                   all      0.976      0.999\n"
     ]
    },
    {
     "name": "stderr",
     "output_type": "stream",
     "text": [
      "\n"
     ]
    },
    {
     "name": "stdout",
     "output_type": "stream",
     "text": [
      "\n",
      "      Epoch    GPU_mem       loss  Instances       Size\n"
     ]
    },
    {
     "name": "stderr",
     "output_type": "stream",
     "text": [
      "      13/50         0G      0.357          6        224: 100%|██████████| 933/933 [13:47<00:00,  1.13it/s]\n",
      "               classes   top1_acc   top5_acc: 100%|██████████| 63/63 [00:51<00:00,  1.23it/s]"
     ]
    },
    {
     "name": "stdout",
     "output_type": "stream",
     "text": [
      "                   all      0.978          1\n"
     ]
    },
    {
     "name": "stderr",
     "output_type": "stream",
     "text": [
      "\n"
     ]
    },
    {
     "name": "stdout",
     "output_type": "stream",
     "text": [
      "\n",
      "      Epoch    GPU_mem       loss  Instances       Size\n"
     ]
    },
    {
     "name": "stderr",
     "output_type": "stream",
     "text": [
      "      14/50         0G     0.3474          6        224: 100%|██████████| 933/933 [13:43<00:00,  1.13it/s]\n",
      "               classes   top1_acc   top5_acc: 100%|██████████| 63/63 [00:35<00:00,  1.76it/s]"
     ]
    },
    {
     "name": "stdout",
     "output_type": "stream",
     "text": [
      "                   all      0.972          1\n"
     ]
    },
    {
     "name": "stderr",
     "output_type": "stream",
     "text": [
      "\n"
     ]
    },
    {
     "name": "stdout",
     "output_type": "stream",
     "text": [
      "\n",
      "      Epoch    GPU_mem       loss  Instances       Size\n"
     ]
    },
    {
     "name": "stderr",
     "output_type": "stream",
     "text": [
      "      15/50         0G     0.3475          6        224: 100%|██████████| 933/933 [11:05<00:00,  1.40it/s]\n",
      "               classes   top1_acc   top5_acc: 100%|██████████| 63/63 [00:30<00:00,  2.10it/s]"
     ]
    },
    {
     "name": "stdout",
     "output_type": "stream",
     "text": [
      "                   all       0.98      0.999\n"
     ]
    },
    {
     "name": "stderr",
     "output_type": "stream",
     "text": [
      "\n"
     ]
    },
    {
     "name": "stdout",
     "output_type": "stream",
     "text": [
      "\n",
      "      Epoch    GPU_mem       loss  Instances       Size\n"
     ]
    },
    {
     "name": "stderr",
     "output_type": "stream",
     "text": [
      "      16/50         0G     0.3348          6        224: 100%|██████████| 933/933 [10:58<00:00,  1.42it/s]\n",
      "               classes   top1_acc   top5_acc: 100%|██████████| 63/63 [00:30<00:00,  2.07it/s]"
     ]
    },
    {
     "name": "stdout",
     "output_type": "stream",
     "text": [
      "                   all      0.975          1\n"
     ]
    },
    {
     "name": "stderr",
     "output_type": "stream",
     "text": [
      "\n"
     ]
    },
    {
     "name": "stdout",
     "output_type": "stream",
     "text": [
      "\n",
      "      Epoch    GPU_mem       loss  Instances       Size\n"
     ]
    },
    {
     "name": "stderr",
     "output_type": "stream",
     "text": [
      "      17/50         0G     0.3189          6        224: 100%|██████████| 933/933 [11:40<00:00,  1.33it/s]\n",
      "               classes   top1_acc   top5_acc: 100%|██████████| 63/63 [00:28<00:00,  2.24it/s]"
     ]
    },
    {
     "name": "stdout",
     "output_type": "stream",
     "text": [
      "                   all      0.987          1\n"
     ]
    },
    {
     "name": "stderr",
     "output_type": "stream",
     "text": [
      "\n"
     ]
    },
    {
     "name": "stdout",
     "output_type": "stream",
     "text": [
      "\n",
      "      Epoch    GPU_mem       loss  Instances       Size\n"
     ]
    },
    {
     "name": "stderr",
     "output_type": "stream",
     "text": [
      "      18/50         0G     0.3059          6        224: 100%|██████████| 933/933 [10:26<00:00,  1.49it/s]\n",
      "               classes   top1_acc   top5_acc: 100%|██████████| 63/63 [00:31<00:00,  1.99it/s]"
     ]
    },
    {
     "name": "stdout",
     "output_type": "stream",
     "text": [
      "                   all      0.986          1\n"
     ]
    },
    {
     "name": "stderr",
     "output_type": "stream",
     "text": [
      "\n"
     ]
    },
    {
     "name": "stdout",
     "output_type": "stream",
     "text": [
      "\n",
      "      Epoch    GPU_mem       loss  Instances       Size\n"
     ]
    },
    {
     "name": "stderr",
     "output_type": "stream",
     "text": [
      "      19/50         0G     0.2998          6        224: 100%|██████████| 933/933 [11:00<00:00,  1.41it/s]\n",
      "               classes   top1_acc   top5_acc: 100%|██████████| 63/63 [00:30<00:00,  2.06it/s]"
     ]
    },
    {
     "name": "stdout",
     "output_type": "stream",
     "text": [
      "                   all      0.986          1\n"
     ]
    },
    {
     "name": "stderr",
     "output_type": "stream",
     "text": [
      "\n"
     ]
    },
    {
     "name": "stdout",
     "output_type": "stream",
     "text": [
      "\n",
      "      Epoch    GPU_mem       loss  Instances       Size\n"
     ]
    },
    {
     "name": "stderr",
     "output_type": "stream",
     "text": [
      "      20/50         0G     0.3007          6        224: 100%|██████████| 933/933 [10:33<00:00,  1.47it/s]\n",
      "               classes   top1_acc   top5_acc: 100%|██████████| 63/63 [00:30<00:00,  2.09it/s]"
     ]
    },
    {
     "name": "stdout",
     "output_type": "stream",
     "text": [
      "                   all      0.987          1\n"
     ]
    },
    {
     "name": "stderr",
     "output_type": "stream",
     "text": [
      "\n"
     ]
    },
    {
     "name": "stdout",
     "output_type": "stream",
     "text": [
      "\n",
      "      Epoch    GPU_mem       loss  Instances       Size\n"
     ]
    },
    {
     "name": "stderr",
     "output_type": "stream",
     "text": [
      "      21/50         0G     0.2839          6        224: 100%|██████████| 933/933 [10:40<00:00,  1.46it/s]\n",
      "               classes   top1_acc   top5_acc: 100%|██████████| 63/63 [00:30<00:00,  2.07it/s]"
     ]
    },
    {
     "name": "stdout",
     "output_type": "stream",
     "text": [
      "                   all       0.98          1\n"
     ]
    },
    {
     "name": "stderr",
     "output_type": "stream",
     "text": [
      "\n"
     ]
    },
    {
     "name": "stdout",
     "output_type": "stream",
     "text": [
      "\n",
      "      Epoch    GPU_mem       loss  Instances       Size\n"
     ]
    },
    {
     "name": "stderr",
     "output_type": "stream",
     "text": [
      "      22/50         0G     0.2693          6        224: 100%|██████████| 933/933 [10:38<00:00,  1.46it/s]\n",
      "               classes   top1_acc   top5_acc: 100%|██████████| 63/63 [00:40<00:00,  1.55it/s]"
     ]
    },
    {
     "name": "stdout",
     "output_type": "stream",
     "text": [
      "                   all      0.986          1\n"
     ]
    },
    {
     "name": "stderr",
     "output_type": "stream",
     "text": [
      "\n"
     ]
    },
    {
     "name": "stdout",
     "output_type": "stream",
     "text": [
      "\n",
      "      Epoch    GPU_mem       loss  Instances       Size\n"
     ]
    },
    {
     "name": "stderr",
     "output_type": "stream",
     "text": [
      "      23/50         0G     0.2673          6        224: 100%|██████████| 933/933 [13:03<00:00,  1.19it/s]\n",
      "               classes   top1_acc   top5_acc: 100%|██████████| 63/63 [00:43<00:00,  1.43it/s]"
     ]
    },
    {
     "name": "stdout",
     "output_type": "stream",
     "text": [
      "                   all      0.988          1\n"
     ]
    },
    {
     "name": "stderr",
     "output_type": "stream",
     "text": [
      "\n"
     ]
    },
    {
     "name": "stdout",
     "output_type": "stream",
     "text": [
      "\n",
      "      Epoch    GPU_mem       loss  Instances       Size\n"
     ]
    },
    {
     "name": "stderr",
     "output_type": "stream",
     "text": [
      "      24/50         0G     0.2668          6        224: 100%|██████████| 933/933 [12:08<00:00,  1.28it/s]\n",
      "               classes   top1_acc   top5_acc: 100%|██████████| 63/63 [00:29<00:00,  2.14it/s]"
     ]
    },
    {
     "name": "stdout",
     "output_type": "stream",
     "text": [
      "                   all      0.985          1\n"
     ]
    },
    {
     "name": "stderr",
     "output_type": "stream",
     "text": [
      "\n"
     ]
    },
    {
     "name": "stdout",
     "output_type": "stream",
     "text": [
      "\n",
      "      Epoch    GPU_mem       loss  Instances       Size\n"
     ]
    },
    {
     "name": "stderr",
     "output_type": "stream",
     "text": [
      "      25/50         0G     0.2641          6        224: 100%|██████████| 933/933 [10:08<00:00,  1.53it/s]\n",
      "               classes   top1_acc   top5_acc: 100%|██████████| 63/63 [00:25<00:00,  2.48it/s]"
     ]
    },
    {
     "name": "stdout",
     "output_type": "stream",
     "text": [
      "                   all      0.985          1\n"
     ]
    },
    {
     "name": "stderr",
     "output_type": "stream",
     "text": [
      "\n"
     ]
    },
    {
     "name": "stdout",
     "output_type": "stream",
     "text": [
      "\n",
      "      Epoch    GPU_mem       loss  Instances       Size\n"
     ]
    },
    {
     "name": "stderr",
     "output_type": "stream",
     "text": [
      "      26/50         0G     0.2486          6        224: 100%|██████████| 933/933 [08:37<00:00,  1.80it/s]\n",
      "               classes   top1_acc   top5_acc: 100%|██████████| 63/63 [00:25<00:00,  2.48it/s]"
     ]
    },
    {
     "name": "stdout",
     "output_type": "stream",
     "text": [
      "                   all      0.991          1\n"
     ]
    },
    {
     "name": "stderr",
     "output_type": "stream",
     "text": [
      "\n"
     ]
    },
    {
     "name": "stdout",
     "output_type": "stream",
     "text": [
      "\n",
      "      Epoch    GPU_mem       loss  Instances       Size\n"
     ]
    },
    {
     "name": "stderr",
     "output_type": "stream",
     "text": [
      "      27/50         0G     0.2491          6        224: 100%|██████████| 933/933 [08:34<00:00,  1.81it/s]\n",
      "               classes   top1_acc   top5_acc: 100%|██████████| 63/63 [00:25<00:00,  2.50it/s]"
     ]
    },
    {
     "name": "stdout",
     "output_type": "stream",
     "text": [
      "                   all      0.989          1\n"
     ]
    },
    {
     "name": "stderr",
     "output_type": "stream",
     "text": [
      "\n"
     ]
    },
    {
     "name": "stdout",
     "output_type": "stream",
     "text": [
      "\n",
      "      Epoch    GPU_mem       loss  Instances       Size\n"
     ]
    },
    {
     "name": "stderr",
     "output_type": "stream",
     "text": [
      "      28/50         0G     0.2513          6        224: 100%|██████████| 933/933 [10:46<00:00,  1.44it/s]\n",
      "               classes   top1_acc   top5_acc: 100%|██████████| 63/63 [00:36<00:00,  1.70it/s]"
     ]
    },
    {
     "name": "stdout",
     "output_type": "stream",
     "text": [
      "                   all      0.986          1\n"
     ]
    },
    {
     "name": "stderr",
     "output_type": "stream",
     "text": [
      "\n"
     ]
    },
    {
     "name": "stdout",
     "output_type": "stream",
     "text": [
      "\n",
      "      Epoch    GPU_mem       loss  Instances       Size\n"
     ]
    },
    {
     "name": "stderr",
     "output_type": "stream",
     "text": [
      "      29/50         0G     0.2229          6        224: 100%|██████████| 933/933 [12:10<00:00,  1.28it/s]\n",
      "               classes   top1_acc   top5_acc: 100%|██████████| 63/63 [00:31<00:00,  1.99it/s]"
     ]
    },
    {
     "name": "stdout",
     "output_type": "stream",
     "text": [
      "                   all      0.989          1\n"
     ]
    },
    {
     "name": "stderr",
     "output_type": "stream",
     "text": [
      "\n"
     ]
    },
    {
     "name": "stdout",
     "output_type": "stream",
     "text": [
      "\n",
      "      Epoch    GPU_mem       loss  Instances       Size\n"
     ]
    },
    {
     "name": "stderr",
     "output_type": "stream",
     "text": [
      "      30/50         0G     0.2252          6        224: 100%|██████████| 933/933 [09:58<00:00,  1.56it/s]\n",
      "               classes   top1_acc   top5_acc: 100%|██████████| 63/63 [00:27<00:00,  2.30it/s]"
     ]
    },
    {
     "name": "stdout",
     "output_type": "stream",
     "text": [
      "                   all       0.99          1\n"
     ]
    },
    {
     "name": "stderr",
     "output_type": "stream",
     "text": [
      "\n"
     ]
    },
    {
     "name": "stdout",
     "output_type": "stream",
     "text": [
      "\n",
      "      Epoch    GPU_mem       loss  Instances       Size\n"
     ]
    },
    {
     "name": "stderr",
     "output_type": "stream",
     "text": [
      "      31/50         0G     0.2227          6        224: 100%|██████████| 933/933 [09:46<00:00,  1.59it/s]\n",
      "               classes   top1_acc   top5_acc: 100%|██████████| 63/63 [00:30<00:00,  2.05it/s]"
     ]
    },
    {
     "name": "stdout",
     "output_type": "stream",
     "text": [
      "                   all       0.99          1\n"
     ]
    },
    {
     "name": "stderr",
     "output_type": "stream",
     "text": [
      "\n"
     ]
    },
    {
     "name": "stdout",
     "output_type": "stream",
     "text": [
      "\n",
      "      Epoch    GPU_mem       loss  Instances       Size\n"
     ]
    },
    {
     "name": "stderr",
     "output_type": "stream",
     "text": [
      "      32/50         0G     0.2105          6        224: 100%|██████████| 933/933 [10:36<00:00,  1.47it/s]\n",
      "               classes   top1_acc   top5_acc: 100%|██████████| 63/63 [00:38<00:00,  1.63it/s]"
     ]
    },
    {
     "name": "stdout",
     "output_type": "stream",
     "text": [
      "                   all      0.993          1\n"
     ]
    },
    {
     "name": "stderr",
     "output_type": "stream",
     "text": [
      "\n"
     ]
    },
    {
     "name": "stdout",
     "output_type": "stream",
     "text": [
      "\n",
      "      Epoch    GPU_mem       loss  Instances       Size\n"
     ]
    },
    {
     "name": "stderr",
     "output_type": "stream",
     "text": [
      "      33/50         0G     0.2135          6        224: 100%|██████████| 933/933 [12:04<00:00,  1.29it/s]\n",
      "               classes   top1_acc   top5_acc: 100%|██████████| 63/63 [00:40<00:00,  1.57it/s]"
     ]
    },
    {
     "name": "stdout",
     "output_type": "stream",
     "text": [
      "                   all      0.992          1\n"
     ]
    },
    {
     "name": "stderr",
     "output_type": "stream",
     "text": [
      "\n"
     ]
    },
    {
     "name": "stdout",
     "output_type": "stream",
     "text": [
      "\n",
      "      Epoch    GPU_mem       loss  Instances       Size\n"
     ]
    },
    {
     "name": "stderr",
     "output_type": "stream",
     "text": [
      "      34/50         0G     0.2217          6        224: 100%|██████████| 933/933 [11:49<00:00,  1.32it/s]\n",
      "               classes   top1_acc   top5_acc: 100%|██████████| 63/63 [00:35<00:00,  1.76it/s]"
     ]
    },
    {
     "name": "stdout",
     "output_type": "stream",
     "text": [
      "                   all      0.993          1\n"
     ]
    },
    {
     "name": "stderr",
     "output_type": "stream",
     "text": [
      "\n"
     ]
    },
    {
     "name": "stdout",
     "output_type": "stream",
     "text": [
      "\n",
      "      Epoch    GPU_mem       loss  Instances       Size\n"
     ]
    },
    {
     "name": "stderr",
     "output_type": "stream",
     "text": [
      "      35/50         0G     0.2069          6        224: 100%|██████████| 933/933 [11:57<00:00,  1.30it/s]\n",
      "               classes   top1_acc   top5_acc: 100%|██████████| 63/63 [00:38<00:00,  1.63it/s]"
     ]
    },
    {
     "name": "stdout",
     "output_type": "stream",
     "text": [
      "                   all      0.993          1\n"
     ]
    },
    {
     "name": "stderr",
     "output_type": "stream",
     "text": [
      "\n"
     ]
    },
    {
     "name": "stdout",
     "output_type": "stream",
     "text": [
      "\n",
      "      Epoch    GPU_mem       loss  Instances       Size\n"
     ]
    },
    {
     "name": "stderr",
     "output_type": "stream",
     "text": [
      "      36/50         0G     0.2001          6        224: 100%|██████████| 933/933 [13:17<00:00,  1.17it/s]\n",
      "               classes   top1_acc   top5_acc: 100%|██████████| 63/63 [00:33<00:00,  1.86it/s]"
     ]
    },
    {
     "name": "stdout",
     "output_type": "stream",
     "text": [
      "                   all      0.992          1\n"
     ]
    },
    {
     "name": "stderr",
     "output_type": "stream",
     "text": [
      "\n"
     ]
    },
    {
     "name": "stdout",
     "output_type": "stream",
     "text": [
      "\n",
      "      Epoch    GPU_mem       loss  Instances       Size\n"
     ]
    },
    {
     "name": "stderr",
     "output_type": "stream",
     "text": [
      "      37/50         0G     0.1988          6        224: 100%|██████████| 933/933 [12:00<00:00,  1.29it/s]\n",
      "               classes   top1_acc   top5_acc: 100%|██████████| 63/63 [00:33<00:00,  1.90it/s]"
     ]
    },
    {
     "name": "stdout",
     "output_type": "stream",
     "text": [
      "                   all      0.994          1\n"
     ]
    },
    {
     "name": "stderr",
     "output_type": "stream",
     "text": [
      "\n"
     ]
    },
    {
     "name": "stdout",
     "output_type": "stream",
     "text": [
      "\n",
      "      Epoch    GPU_mem       loss  Instances       Size\n"
     ]
    },
    {
     "name": "stderr",
     "output_type": "stream",
     "text": [
      "      38/50         0G     0.1894          6        224: 100%|██████████| 933/933 [11:11<00:00,  1.39it/s]\n",
      "               classes   top1_acc   top5_acc: 100%|██████████| 63/63 [00:29<00:00,  2.12it/s]"
     ]
    },
    {
     "name": "stdout",
     "output_type": "stream",
     "text": [
      "                   all      0.993          1\n"
     ]
    },
    {
     "name": "stderr",
     "output_type": "stream",
     "text": [
      "\n"
     ]
    },
    {
     "name": "stdout",
     "output_type": "stream",
     "text": [
      "\n",
      "      Epoch    GPU_mem       loss  Instances       Size\n"
     ]
    },
    {
     "name": "stderr",
     "output_type": "stream",
     "text": [
      "      39/50         0G     0.1819          6        224: 100%|██████████| 933/933 [11:03<00:00,  1.41it/s]\n",
      "               classes   top1_acc   top5_acc: 100%|██████████| 63/63 [00:30<00:00,  2.04it/s]"
     ]
    },
    {
     "name": "stdout",
     "output_type": "stream",
     "text": [
      "                   all      0.991          1\n"
     ]
    },
    {
     "name": "stderr",
     "output_type": "stream",
     "text": [
      "\n"
     ]
    },
    {
     "name": "stdout",
     "output_type": "stream",
     "text": [
      "\n",
      "      Epoch    GPU_mem       loss  Instances       Size\n"
     ]
    },
    {
     "name": "stderr",
     "output_type": "stream",
     "text": [
      "      40/50         0G     0.1884          6        224: 100%|██████████| 933/933 [12:17<00:00,  1.27it/s]\n",
      "               classes   top1_acc   top5_acc: 100%|██████████| 63/63 [00:36<00:00,  1.72it/s]"
     ]
    },
    {
     "name": "stdout",
     "output_type": "stream",
     "text": [
      "                   all      0.993          1\n"
     ]
    },
    {
     "name": "stderr",
     "output_type": "stream",
     "text": [
      "\n"
     ]
    },
    {
     "name": "stdout",
     "output_type": "stream",
     "text": [
      "\n",
      "      Epoch    GPU_mem       loss  Instances       Size\n"
     ]
    },
    {
     "name": "stderr",
     "output_type": "stream",
     "text": [
      "      41/50         0G     0.1813          6        224: 100%|██████████| 933/933 [13:11<00:00,  1.18it/s]\n",
      "               classes   top1_acc   top5_acc: 100%|██████████| 63/63 [00:34<00:00,  1.82it/s]"
     ]
    },
    {
     "name": "stdout",
     "output_type": "stream",
     "text": [
      "                   all      0.994          1\n"
     ]
    },
    {
     "name": "stderr",
     "output_type": "stream",
     "text": [
      "\n"
     ]
    },
    {
     "name": "stdout",
     "output_type": "stream",
     "text": [
      "\n",
      "      Epoch    GPU_mem       loss  Instances       Size\n"
     ]
    },
    {
     "name": "stderr",
     "output_type": "stream",
     "text": [
      "      42/50         0G     0.1795          6        224: 100%|██████████| 933/933 [13:17<00:00,  1.17it/s]\n",
      "               classes   top1_acc   top5_acc: 100%|██████████| 63/63 [00:34<00:00,  1.84it/s]"
     ]
    },
    {
     "name": "stdout",
     "output_type": "stream",
     "text": [
      "                   all      0.992          1\n"
     ]
    },
    {
     "name": "stderr",
     "output_type": "stream",
     "text": [
      "\n"
     ]
    },
    {
     "name": "stdout",
     "output_type": "stream",
     "text": [
      "\n",
      "      Epoch    GPU_mem       loss  Instances       Size\n"
     ]
    },
    {
     "name": "stderr",
     "output_type": "stream",
     "text": [
      "      43/50         0G     0.1783          6        224: 100%|██████████| 933/933 [12:50<00:00,  1.21it/s]\n",
      "               classes   top1_acc   top5_acc: 100%|██████████| 63/63 [00:33<00:00,  1.88it/s]"
     ]
    },
    {
     "name": "stdout",
     "output_type": "stream",
     "text": [
      "                   all      0.991          1\n"
     ]
    },
    {
     "name": "stderr",
     "output_type": "stream",
     "text": [
      "\n"
     ]
    },
    {
     "name": "stdout",
     "output_type": "stream",
     "text": [
      "\n",
      "      Epoch    GPU_mem       loss  Instances       Size\n"
     ]
    },
    {
     "name": "stderr",
     "output_type": "stream",
     "text": [
      "      44/50         0G     0.1789          6        224: 100%|██████████| 933/933 [13:26<00:00,  1.16it/s]\n",
      "               classes   top1_acc   top5_acc: 100%|██████████| 63/63 [00:46<00:00,  1.35it/s]"
     ]
    },
    {
     "name": "stdout",
     "output_type": "stream",
     "text": [
      "                   all      0.994          1\n"
     ]
    },
    {
     "name": "stderr",
     "output_type": "stream",
     "text": [
      "\n"
     ]
    },
    {
     "name": "stdout",
     "output_type": "stream",
     "text": [
      "\n",
      "      Epoch    GPU_mem       loss  Instances       Size\n"
     ]
    },
    {
     "name": "stderr",
     "output_type": "stream",
     "text": [
      "      45/50         0G     0.1731          6        224: 100%|██████████| 933/933 [12:28<00:00,  1.25it/s]\n",
      "               classes   top1_acc   top5_acc: 100%|██████████| 63/63 [00:32<00:00,  1.95it/s]"
     ]
    },
    {
     "name": "stdout",
     "output_type": "stream",
     "text": [
      "                   all      0.992          1\n"
     ]
    },
    {
     "name": "stderr",
     "output_type": "stream",
     "text": [
      "\n"
     ]
    },
    {
     "name": "stdout",
     "output_type": "stream",
     "text": [
      "\n",
      "      Epoch    GPU_mem       loss  Instances       Size\n"
     ]
    },
    {
     "name": "stderr",
     "output_type": "stream",
     "text": [
      "      46/50         0G     0.1672          6        224: 100%|██████████| 933/933 [11:53<00:00,  1.31it/s]\n",
      "               classes   top1_acc   top5_acc: 100%|██████████| 63/63 [00:35<00:00,  1.75it/s]"
     ]
    },
    {
     "name": "stdout",
     "output_type": "stream",
     "text": [
      "                   all      0.994          1\n"
     ]
    },
    {
     "name": "stderr",
     "output_type": "stream",
     "text": [
      "\n"
     ]
    },
    {
     "name": "stdout",
     "output_type": "stream",
     "text": [
      "\n",
      "      Epoch    GPU_mem       loss  Instances       Size\n"
     ]
    },
    {
     "name": "stderr",
     "output_type": "stream",
     "text": [
      "      47/50         0G     0.1582          6        224: 100%|██████████| 933/933 [12:48<00:00,  1.21it/s]\n",
      "               classes   top1_acc   top5_acc: 100%|██████████| 63/63 [00:36<00:00,  1.75it/s]"
     ]
    },
    {
     "name": "stdout",
     "output_type": "stream",
     "text": [
      "                   all      0.994          1\n"
     ]
    },
    {
     "name": "stderr",
     "output_type": "stream",
     "text": [
      "\n"
     ]
    },
    {
     "name": "stdout",
     "output_type": "stream",
     "text": [
      "\n",
      "      Epoch    GPU_mem       loss  Instances       Size\n"
     ]
    },
    {
     "name": "stderr",
     "output_type": "stream",
     "text": [
      "      48/50         0G     0.1605          6        224: 100%|██████████| 933/933 [12:03<00:00,  1.29it/s]\n",
      "               classes   top1_acc   top5_acc: 100%|██████████| 63/63 [00:43<00:00,  1.46it/s]"
     ]
    },
    {
     "name": "stdout",
     "output_type": "stream",
     "text": [
      "                   all      0.993          1\n"
     ]
    },
    {
     "name": "stderr",
     "output_type": "stream",
     "text": [
      "\n"
     ]
    },
    {
     "name": "stdout",
     "output_type": "stream",
     "text": [
      "\n",
      "      Epoch    GPU_mem       loss  Instances       Size\n"
     ]
    },
    {
     "name": "stderr",
     "output_type": "stream",
     "text": [
      "      49/50         0G     0.1625          6        224: 100%|██████████| 933/933 [12:25<00:00,  1.25it/s]\n",
      "               classes   top1_acc   top5_acc: 100%|██████████| 63/63 [00:34<00:00,  1.83it/s]"
     ]
    },
    {
     "name": "stdout",
     "output_type": "stream",
     "text": [
      "                   all      0.994          1\n"
     ]
    },
    {
     "name": "stderr",
     "output_type": "stream",
     "text": [
      "\n"
     ]
    },
    {
     "name": "stdout",
     "output_type": "stream",
     "text": [
      "\n",
      "      Epoch    GPU_mem       loss  Instances       Size\n"
     ]
    },
    {
     "name": "stderr",
     "output_type": "stream",
     "text": [
      "      50/50         0G     0.1544          6        224: 100%|██████████| 933/933 [12:51<00:00,  1.21it/s]\n",
      "               classes   top1_acc   top5_acc: 100%|██████████| 63/63 [00:38<00:00,  1.65it/s]"
     ]
    },
    {
     "name": "stdout",
     "output_type": "stream",
     "text": [
      "                   all      0.994          1\n"
     ]
    },
    {
     "name": "stderr",
     "output_type": "stream",
     "text": [
      "\n"
     ]
    },
    {
     "name": "stdout",
     "output_type": "stream",
     "text": [
      "\n",
      "50 epochs completed in 9.845 hours.\n",
      "Optimizer stripped from runs\\classify\\train6\\weights\\last.pt, 3.5MB\n",
      "Optimizer stripped from runs\\classify\\train6\\weights\\best.pt, 3.5MB\n",
      "\n",
      "Validating runs\\classify\\train6\\weights\\best.pt...\n",
      "Ultralytics YOLOv8.2.9  Python-3.10.6 torch-2.3.0+cpu CPU (Intel Core(TM) i5-4460  3.20GHz)\n",
      "YOLOv8n-cls summary (fused): 73 layers, 1684675 parameters, 0 gradients, 3.5 GFLOPs\n",
      "\u001b[34m\u001b[1mtrain:\u001b[0m E:\\pycharmik\\geotastic_with_AI\\datasets\\train... found 14918 images in 195 classes  \n",
      "\u001b[34m\u001b[1mval:\u001b[0m E:\\pycharmik\\geotastic_with_AI\\datasets\\val... found 1989 images in 195 classes  \n",
      "\u001b[34m\u001b[1mtest:\u001b[0m E:\\pycharmik\\geotastic_with_AI\\datasets\\test... found 514 images in 195 classes  \n"
     ]
    },
    {
     "name": "stderr",
     "output_type": "stream",
     "text": [
      "               classes   top1_acc   top5_acc: 100%|██████████| 63/63 [00:30<00:00,  2.06it/s]\n"
     ]
    },
    {
     "name": "stdout",
     "output_type": "stream",
     "text": [
      "                   all      0.994          1\n",
      "Speed: 0.0ms preprocess, 10.8ms inference, 0.0ms loss, 0.0ms postprocess per image\n",
      "Results saved to \u001b[1mruns\\classify\\train6\u001b[0m\n",
      "Results saved to \u001b[1mruns\\classify\\train6\u001b[0m\n"
     ]
    },
    {
     "data": {
      "text/plain": [
       "ultralytics.utils.metrics.ClassifyMetrics object with attributes:\n",
       "\n",
       "confusion_matrix: <ultralytics.utils.metrics.ConfusionMatrix object at 0x0000021B76F09BA0>\n",
       "curves: []\n",
       "curves_results: []\n",
       "fitness: 0.9972347915172577\n",
       "keys: ['metrics/accuracy_top1', 'metrics/accuracy_top5']\n",
       "results_dict: {'metrics/accuracy_top1': 0.9944695830345154, 'metrics/accuracy_top5': 1.0, 'fitness': 0.9972347915172577}\n",
       "save_dir: WindowsPath('runs/classify/train6')\n",
       "speed: {'preprocess': 0.0015057889344765349, 'inference': 10.795094248875714, 'loss': 0.0, 'postprocess': 0.0}\n",
       "task: 'classify'\n",
       "top1: 0.9944695830345154\n",
       "top5: 1.0"
      ]
     },
     "execution_count": 88,
     "metadata": {},
     "output_type": "execute_result"
    }
   ],
   "source": [
    "model = YOLO(\"yolov8n-cls.pt\")\n",
    "model.train(data=\"datasets/\", epochs=50)"
   ]
  }
 ],
 "metadata": {
  "kernelspec": {
   "display_name": ".venv",
   "language": "python",
   "name": "python3"
  },
  "language_info": {
   "codemirror_mode": {
    "name": "ipython",
    "version": 3
   },
   "file_extension": ".py",
   "mimetype": "text/x-python",
   "name": "python",
   "nbconvert_exporter": "python",
   "pygments_lexer": "ipython3",
   "version": "3.10.6"
  }
 },
 "nbformat": 4,
 "nbformat_minor": 2
}
