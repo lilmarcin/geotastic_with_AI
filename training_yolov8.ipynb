{
 "cells": [
  {
   "cell_type": "code",
   "execution_count": 1,
   "metadata": {},
   "outputs": [
    {
     "name": "stdout",
     "output_type": "stream",
     "text": [
      "Ultralytics YOLOv8.2.9  Python-3.10.6 torch-2.3.0+cpu CPU (Intel Core(TM) i5-4460  3.20GHz)\n",
      "Setup complete  (4 CPUs, 15.9 GB RAM, 493.8/931.5 GB disk)\n"
     ]
    }
   ],
   "source": [
    "import ultralytics\n",
    "ultralytics.checks()\n"
   ]
  },
  {
   "cell_type": "code",
   "execution_count": 2,
   "metadata": {},
   "outputs": [],
   "source": [
    "import os\n",
    "import matplotlib.pyplot as plt\n",
    "from PIL import Image\n",
    "from ultralytics import YOLO"
   ]
  },
  {
   "cell_type": "code",
   "execution_count": 3,
   "metadata": {},
   "outputs": [
    {
     "name": "stdout",
     "output_type": "stream",
     "text": [
      "{'Afghanistan': 0, 'Albania': 1, 'Algeria': 2, 'American Samoa': 3, 'Andorra': 4, 'Angola': 5, 'Anguilla': 6, 'Antigua and Barbuda': 7, 'Argentina': 8, 'Armenia': 9, 'Aruba': 10, 'Australia': 11, 'Austria': 12, 'Azerbaijan': 13, 'Bahamas': 14, 'Bahrain': 15, 'Bangladesh': 16, 'Barbados': 17, 'Belarus': 18, 'Belgium': 19, 'Belize': 20, 'Benin': 21, 'Bermuda': 22, 'Bhutan': 23, 'Bolivia': 24, 'Bosnia and Herzegovina': 25, 'Botswana': 26, 'Brazil': 27, 'British Virgin Islands': 28, 'Brunei': 29, 'Bulgaria': 30, 'Burkina Faso': 31, 'Burundi': 32, 'CA-te d-Ivoire': 33, 'Cabo Verde': 34, 'Cambodia': 35, 'Cameroon': 36, 'Canada': 37, 'Cayman Islands': 38, 'Central African Republic': 39, 'Chad': 40, 'Chile': 41, 'China': 42, 'Colombia': 43, 'Comoros': 44, 'Congo -Congo-Brazzaville-': 45, 'Cook Islands': 46, 'Costa Rica': 47, 'Croatia': 48, 'Cuba': 49, 'Curacao': 50, 'Cyprus': 51, 'Czechia -Czech Republic-': 52, 'Democratic Republic of the Congo': 53, 'Denmark': 54, 'Djibouti': 55, 'Dominica': 56, 'Dominican Republic': 57, 'Ecuador': 58, 'Egypt': 59, 'El Salvador': 60, 'Equatorial Guinea': 61, 'Eritrea': 62, 'Estonia': 63, 'Eswatini -fmr- -Swaziland--': 64, 'Ethiopia': 65, 'Falkland Islands': 66, 'Faroe Islands': 67, 'Fiji': 68, 'Finland': 69, 'France': 70, 'French Polynesia': 71, 'Gabon': 72, 'Gambia': 73, 'Georgia': 74, 'Germany': 75, 'Ghana': 76, 'Gibraltar': 77, 'Greece': 78, 'Greenland': 79, 'Grenada': 80, 'Guadeloupe': 81, 'Guam': 82, 'Guatemala': 83, 'Guinea': 84, 'Guinea-Bissau': 85, 'Guyana': 86, 'Haiti': 87, 'Holy See': 88, 'Honduras': 89, 'Hong Kong': 90, 'Hungary': 91, 'Iceland': 92, 'India': 93, 'Indonesia': 94, 'Iran': 95, 'Iraq': 96, 'Ireland': 97, 'Isle of Man': 98, 'Israel': 99, 'Italy': 100, 'Jamaica': 101, 'Japan': 102, 'Jordan': 103, 'Kazakhstan': 104, 'Kenya': 105, 'Kiribati': 106, 'Kuwait': 107, 'Kyrgyzstan': 108, 'Laos': 109, 'Latvia': 110, 'Lebanon': 111, 'Lesotho': 112, 'Liberia': 113, 'Libya': 114, 'Liechtenstein': 115, 'Lithuania': 116, 'Luxembourg': 117, 'Macau': 118, 'Madagascar': 119, 'Malawi': 120, 'Malaysia': 121, 'Maldives': 122, 'Mali': 123, 'Malta': 124, 'Marshall Islands': 125, 'Martinique': 126, 'Mauritania': 127, 'Mauritius': 128, 'Mayotte': 129, 'Mexico': 130, 'Micronesia': 131, 'Moldova': 132, 'Monaco': 133, 'Mongolia': 134, 'Montenegro': 135, 'Montserrat': 136, 'Morocco': 137, 'Mozambique': 138, 'Myanmar -formerly Burma-': 139, 'Namibia': 140, 'Nauru': 141, 'Nepal': 142, 'Netherlands': 143, 'Netherlands Antilles': 144, 'New Zealand': 145, 'Nicaragua': 146, 'Niger': 147, 'Nigeria': 148, 'Niue': 149, 'North Korea': 150, 'North Macedonia': 151, 'Northern Mariana Islands': 152, 'Norway': 153, 'Oman': 154, 'Pakistan': 155, 'Palau': 156, 'Palestine State': 157, 'Panama': 158, 'Papua New Guinea': 159, 'Paraguay': 160, 'Peru': 161, 'Philippines': 162, 'Poland': 163, 'Portugal': 164, 'Puerto Rico': 165, 'Qatar': 166, 'Reunion': 167, 'Romania': 168, 'Russia': 169, 'Rwanda': 170, 'Saint Barthelemy': 171, 'Saint Helena': 172, 'Saint Kitts and Nevis': 173, 'Saint Lucia': 174, 'Saint Pierre and Miquelon': 175, 'Saint Vincent and the Grenadines': 176, 'Samoa': 177, 'San Marino': 178, 'Sao Tome and Principe': 179, 'Saudi Arabia': 180, 'Senegal': 181, 'Serbia': 182, 'Seychelles': 183, 'Sierra Leone': 184, 'Singapore': 185, 'Sint Maarten': 186, 'Slovakia': 187, 'Slovenia': 188, 'Solomon Islands': 189, 'Somalia': 190, 'South Africa': 191, 'South Georgia and The South Sandwich Islands': 192, 'South Korea': 193, 'South Sudan': 194, 'Spain': 195, 'Sri Lanka': 196, 'Sudan': 197, 'Suriname': 198, 'Sweden': 199, 'Switzerland': 200, 'Syria': 201, 'Taiwan': 202, 'Tajikistan': 203, 'Tanzania': 204, 'Thailand': 205, 'Timor-Leste': 206, 'Togo': 207, 'Tokelau': 208, 'Tonga': 209, 'Trinidad and Tobago': 210, 'Tunisia': 211, 'Turkey': 212, 'Turkmenistan': 213, 'Turks and Caicos': 214, 'Tuvalu': 215, 'Uganda': 216, 'Ukraine': 217, 'United Arab Emirates': 218, 'United Kingdom': 219, 'United States of America': 220, 'Uruguay': 221, 'Uzbekistan': 222, 'Vanuatu': 223, 'Venezuela': 224, 'Vietnam': 225, 'Wallis and Futuna': 226, 'Western Sahara': 227, 'Yemen': 228, 'Zambia': 229, 'Zimbabwe': 230}\n"
     ]
    }
   ],
   "source": [
    "# Change list of classes to dict\n",
    "\n",
    "#classes = ['Afghanistan', 'Albania', 'Algeria', 'Andorra', 'Angola', 'Antigua and Barbuda', 'Argentina', 'Armenia', 'Australia', 'Austria', 'Azerbaijan', 'Bahamas', 'Bahrain', 'Bangladesh', 'Barbados', 'Belarus', 'Belgium', 'Belize', 'Benin', 'Bhutan', 'Bolivia', 'Bosnia and Herzegovina', 'Botswana', 'Brazil', 'Brunei', 'Bulgaria', 'Burkina Faso', 'Burundi', 'CA-te d-Ivoire', 'Cabo Verde', 'Cambodia', 'Cameroon', 'Canada', 'Central African Republic', 'Chad', 'Chile', 'China', 'Colombia', 'Comoros', 'Congo -Congo-Brazzaville-', 'Costa Rica', 'Croatia', 'Cuba', 'Cyprus', 'Czechia -Czech Republic-', 'Democratic Republic of the Congo', 'Denmark', 'Djibouti', 'Dominica', 'Dominican Republic', 'Ecuador', 'Egypt', 'El Salvador', 'Equatorial Guinea', 'Eritrea', 'Estonia', 'Eswatini -fmr- -Swaziland--', 'Ethiopia', 'Fiji', 'Finland', 'France', 'Gabon', 'Gambia', 'Georgia', 'Germany', 'Ghana', 'Greece', 'Grenada', 'Guatemala', 'Guinea', 'Guinea-Bissau', 'Guyana', 'Haiti', 'Holy See', 'Honduras', 'Hungary', 'Iceland', 'India', 'Indonesia', 'Iran', 'Iraq', 'Ireland', 'Israel', 'Italy', 'Jamaica', 'Japan', 'Jordan', 'Kazakhstan', 'Kenya', 'Kiribati', 'Kuwait', 'Kyrgyzstan', 'Laos', 'Latvia', 'Lebanon', 'Lesotho', 'Liberia', 'Libya', 'Liechtenstein', 'Lithuania', 'Luxembourg', 'Madagascar', 'Malawi', 'Malaysia', 'Maldives', 'Mali', 'Malta', 'Marshall Islands', 'Mauritania', 'Mauritius', 'Mexico', 'Micronesia', 'Moldova', 'Monaco', 'Mongolia', 'Montenegro', 'Morocco', 'Mozambique', 'Myanmar -formerly Burma-', 'Namibia', 'Nauru', 'Nepal', 'Netherlands', 'New Zealand', 'Nicaragua', 'Niger', 'Nigeria', 'North Korea', 'North Macedonia', 'Norway', 'Oman', 'Pakistan', 'Palau', 'Palestine State', 'Panama', 'Papua New Guinea', 'Paraguay', 'Peru', 'Philippines', 'Poland', 'Portugal', 'Qatar', 'Romania', 'Russia', 'Rwanda', 'Saint Kitts and Nevis', 'Saint Lucia', 'Saint Vincent and the Grenadines', 'Samoa', 'San Marino', 'Sao Tome and Principe', 'Saudi Arabia', 'Senegal', 'Serbia', 'Seychelles', 'Sierra Leone', 'Singapore', 'Slovakia', 'Slovenia', 'Solomon Islands', 'Somalia', 'South Africa', 'South Korea', 'South Sudan', 'Spain', 'Sri Lanka', 'Sudan', 'Suriname', 'Sweden', 'Switzerland', 'Syria', 'Tajikistan', 'Tanzania', 'Thailand', 'Timor-Leste', 'Togo', 'Tonga', 'Trinidad and Tobago', 'Tunisia', 'Turkey', 'Turkmenistan', 'Tuvalu', 'Uganda', 'Ukraine', 'United Arab Emirates', 'United Kingdom', 'United States of America', 'Uruguay', 'Uzbekistan', 'Vanuatu', 'Venezuela', 'Vietnam', 'Yemen', 'Zambia', 'Zimbabwe']\n",
    "classes = ['Afghanistan', 'Albania', 'Algeria', 'American Samoa', 'Andorra', 'Angola', 'Anguilla', 'Antigua and Barbuda', 'Argentina', 'Armenia', 'Aruba', 'Australia', 'Austria', 'Azerbaijan', 'Bahamas', 'Bahrain', 'Bangladesh', 'Barbados', 'Belarus', 'Belgium', 'Belize', 'Benin', 'Bermuda', 'Bhutan', 'Bolivia', 'Bosnia and Herzegovina', 'Botswana', 'Brazil', 'British Virgin Islands', 'Brunei', 'Bulgaria', 'Burkina Faso', 'Burundi', 'CA-te d-Ivoire', 'Cabo Verde', 'Cambodia', 'Cameroon', 'Canada', 'Cayman Islands', 'Central African Republic', 'Chad', 'Chile', 'China', 'Colombia', 'Comoros', 'Congo -Congo-Brazzaville-', 'Cook Islands', 'Costa Rica', 'Croatia', 'Cuba', 'Curacao', 'Cyprus', 'Czechia -Czech Republic-', 'Democratic Republic of the Congo', 'Denmark', 'Djibouti', 'Dominica', 'Dominican Republic', 'Ecuador', 'Egypt', 'El Salvador', 'Equatorial Guinea', 'Eritrea', 'Estonia', 'Eswatini -fmr- -Swaziland--', 'Ethiopia', 'Falkland Islands', 'Faroe Islands', 'Fiji', 'Finland', 'France', 'French Polynesia', 'Gabon', 'Gambia', 'Georgia', 'Germany', 'Ghana', 'Gibraltar', 'Greece', 'Greenland', 'Grenada', 'Guadeloupe', 'Guam', 'Guatemala', 'Guinea', 'Guinea-Bissau', 'Guyana', 'Haiti', 'Holy See', 'Honduras', 'Hong Kong', 'Hungary', 'Iceland', 'India', 'Indonesia', 'Iran', 'Iraq', 'Ireland', 'Isle of Man', 'Israel', 'Italy', 'Jamaica', 'Japan', 'Jordan', 'Kazakhstan', 'Kenya', 'Kiribati', 'Kuwait', 'Kyrgyzstan', 'Laos', 'Latvia', 'Lebanon', 'Lesotho', 'Liberia', 'Libya', 'Liechtenstein', 'Lithuania', 'Luxembourg', 'Macau', 'Madagascar', 'Malawi', 'Malaysia', 'Maldives', 'Mali', 'Malta', 'Marshall Islands', 'Martinique', 'Mauritania', 'Mauritius', 'Mayotte', 'Mexico', 'Micronesia', 'Moldova', 'Monaco', 'Mongolia', 'Montenegro', 'Montserrat', 'Morocco', 'Mozambique', 'Myanmar -formerly Burma-', 'Namibia', 'Nauru', 'Nepal', 'Netherlands', 'Netherlands Antilles', 'New Zealand', 'Nicaragua', 'Niger', 'Nigeria', 'Niue', 'North Korea', 'North Macedonia', 'Northern Mariana Islands', 'Norway', 'Oman', 'Pakistan', 'Palau', 'Palestine State', 'Panama', 'Papua New Guinea', 'Paraguay', 'Peru', 'Philippines', 'Poland', 'Portugal', 'Puerto Rico', 'Qatar', 'Reunion', 'Romania', 'Russia', 'Rwanda', 'Saint Barthelemy', 'Saint Helena', 'Saint Kitts and Nevis', 'Saint Lucia', 'Saint Pierre and Miquelon', 'Saint Vincent and the Grenadines', 'Samoa', 'San Marino', 'Sao Tome and Principe', 'Saudi Arabia', 'Senegal', 'Serbia', 'Seychelles', 'Sierra Leone', 'Singapore', 'Sint Maarten', 'Slovakia', 'Slovenia', 'Solomon Islands', 'Somalia', 'South Africa', 'South Georgia and The South Sandwich Islands', 'South Korea', 'South Sudan', 'Spain', 'Sri Lanka', 'Sudan', 'Suriname', 'Sweden', 'Switzerland', 'Syria', 'Taiwan', 'Tajikistan', 'Tanzania', 'Thailand', 'Timor-Leste', 'Togo', 'Tokelau', 'Tonga', 'Trinidad and Tobago', 'Tunisia', 'Turkey', 'Turkmenistan', 'Turks and Caicos', 'Tuvalu', 'Uganda', 'Ukraine', 'United Arab Emirates', 'United Kingdom', 'United States of America', 'Uruguay', 'Uzbekistan', 'Vanuatu', 'Venezuela', 'Vietnam', 'Wallis and Futuna', 'Western Sahara', 'Yemen', 'Zambia', 'Zimbabwe']\n",
    "\n",
    "classes_dict = {}\n",
    "for i, class_name in enumerate(classes):\n",
    "    classes_dict[class_name] = i\n",
    "\n",
    "print(classes_dict)\n"
   ]
  },
  {
   "cell_type": "code",
   "execution_count": 6,
   "metadata": {},
   "outputs": [
    {
     "name": "stdout",
     "output_type": "stream",
     "text": [
      "Andorra\n"
     ]
    }
   ],
   "source": [
    "def find_country_by_id(id_num, class_dict):\n",
    "    for country, value in class_dict.items():\n",
    "        if value == id_num:\n",
    "            return country\n",
    "    return \"Nie ma kraju o podanym numerze.\"\n",
    "\n",
    "print(find_country_by_id(4, classes_dict))"
   ]
  },
  {
   "cell_type": "markdown",
   "metadata": {},
   "source": [
    "Check boxes on image"
   ]
  },
  {
   "cell_type": "code",
   "execution_count": null,
   "metadata": {},
   "outputs": [],
   "source": [
    "def draw_boxes_on_image(image_path, label_path, classes):\n",
    "    image = Image.open(image_path)\n",
    "\n",
    "    fig, ax = plt.subplots(1)\n",
    "    ax.imshow(image)\n",
    "\n",
    "    with open(label_path, 'r') as txt_file:\n",
    "        for line in txt_file:\n",
    "            values = line.strip().split(' ')\n",
    "            class_id, x_center, y_center, width, height = map(float, values[0:5])\n",
    "\n",
    "            # Transform yolo to image size\n",
    "            image_width, image_height = image.size\n",
    "            x_center *= image_width\n",
    "            y_center *= image_height\n",
    "            width *= image_width\n",
    "            height *= image_height\n",
    "\n",
    "            # Calculate coordinates of bbox\n",
    "            x_min = x_center - width / 2\n",
    "            y_min = y_center - height / 2\n",
    "            rect_width = width\n",
    "            rect_height = height\n",
    "\n",
    "            # Draw rectangle\n",
    "            rect = plt.Rectangle((x_min, y_min), rect_width, rect_height, linewidth=2, edgecolor='red', facecolor='none')\n",
    "            ax.add_patch(rect)\n",
    "\n",
    "            # Add class label\n",
    "            for flag, id in classes.items():\n",
    "                if id == class_id:\n",
    "                    class_flag = flag\n",
    "\n",
    "            plt.text(x_min, y_min - 10, f'Class {int(class_id)}: {class_flag}', color='red')\n",
    "\n",
    "    plt.show()\n",
    "\n",
    "image_filepath = 'E:/pycharmik/geotastic_with_AI/datasets/test/images/3_g0_208_jpg.rf.141e39330449c85ad7275a6d1915289e.jpg'\n",
    "label_filepath = 'E:/pycharmik/geotastic_with_AI/datasets/test/labels/3_g0_208_jpg.rf.141e39330449c85ad7275a6d1915289e.txt'\n",
    "\n",
    "draw_boxes_on_image(image_filepath, label_filepath, classes_dict)\n"
   ]
  },
  {
   "cell_type": "markdown",
   "metadata": {},
   "source": [
    "Split the dataset into train-valid-test "
   ]
  },
  {
   "cell_type": "code",
   "execution_count": 13,
   "metadata": {},
   "outputs": [],
   "source": [
    "test_images = []\n",
    "train_images = []\n",
    "val_images = []\n",
    "\n",
    "for country in classes:\n",
    "    test_images += [os.path.join(f'datasets/test/{country}', x) for x in os.listdir(f'datasets/test/{country}')]\n",
    "    train_images += [os.path.join(f'datasets/train/{country}', x) for x in os.listdir(f'datasets/train/{country}')]\n",
    "    val_images += [os.path.join(f'datasets/val/{country}', x) for x in os.listdir(f'datasets/val/{country}')]\n"
   ]
  },
  {
   "cell_type": "code",
   "execution_count": 14,
   "metadata": {},
   "outputs": [
    {
     "name": "stdout",
     "output_type": "stream",
     "text": [
      "['datasets/test/Afghanistan\\\\1_g2_256_jpg.rf.9283676bce855b1d25f7f10acc6e8de6.jpg', 'datasets/test/Albania\\\\2_g0_208_jpg.rf.8a3785e00d315f1a449cc6088f29e2a31.jpg', 'datasets/test/Algeria\\\\3_g0_208_jpg.rf.141e39330449c85ad7275a6d1915289e.jpg', 'datasets/test/Algeria\\\\3_g0_304_jpg.rf.721c9003b3a24796203d7f1f403a03ce.jpg', 'datasets/test/Algeria\\\\3_g1_64_jpg.rf.f40127bf0cc14a6e5e3f5c708319c388.jpg']\n",
      "['datasets/test/Yemen\\\\193_g0_192_jpg.rf.46f14eb3d1eba55256153a489810f82d.jpg', 'datasets/test/Yemen\\\\193_g0_208_jpg.rf.a1d3c5a8a0ff79b46da5a106e0c4da6d.jpg', 'datasets/test/Zambia\\\\194_g0_240_jpg.rf.a5f3a22905660543944866cafcf7600b.jpg', 'datasets/test/Zimbabwe\\\\195_g0_64_jpg.rf.ff2f35fdd0377e9d2fd27b9fd2eb5bce.jpg', 'datasets/test/Zimbabwe\\\\195_g2_304_jpg.rf.3d1db9e59bb3f86fdc31d8647002afc9.jpg']\n"
     ]
    }
   ],
   "source": [
    "print(test_images[:5])\n",
    "print(test_images[-5:])"
   ]
  },
  {
   "cell_type": "code",
   "execution_count": 15,
   "metadata": {},
   "outputs": [
    {
     "name": "stdout",
     "output_type": "stream",
     "text": [
      "586\n",
      "17043\n",
      "2169\n"
     ]
    }
   ],
   "source": [
    "print(len(test_images))\n",
    "print(len(train_images))\n",
    "print(len(val_images))"
   ]
  },
  {
   "cell_type": "markdown",
   "metadata": {},
   "source": [
    "Train dataset using yolov8"
   ]
  },
  {
   "cell_type": "code",
   "execution_count": 16,
   "metadata": {},
   "outputs": [
    {
     "name": "stdout",
     "output_type": "stream",
     "text": [
      "New https://pypi.org/project/ultralytics/8.2.15 available  Update with 'pip install -U ultralytics'\n",
      "Ultralytics YOLOv8.2.9  Python-3.10.6 torch-2.3.0+cpu CPU (Intel Core(TM) i5-4460  3.20GHz)\n",
      "\u001b[34m\u001b[1mengine\\trainer: \u001b[0mtask=classify, mode=train, model=yolov8n-cls.pt, data=datasets/, epochs=50, time=None, patience=100, batch=16, imgsz=224, save=True, save_period=-1, cache=False, device=None, workers=8, project=None, name=train, exist_ok=False, pretrained=True, optimizer=auto, verbose=True, seed=0, deterministic=True, single_cls=False, rect=False, cos_lr=False, close_mosaic=10, resume=False, amp=True, fraction=1.0, profile=False, freeze=None, multi_scale=False, overlap_mask=True, mask_ratio=4, dropout=0.0, val=True, split=val, save_json=False, save_hybrid=False, conf=None, iou=0.7, max_det=300, half=False, dnn=False, plots=True, source=None, vid_stride=1, stream_buffer=False, visualize=False, augment=False, agnostic_nms=False, classes=None, retina_masks=False, embed=None, show=False, save_frames=False, save_txt=False, save_conf=False, save_crop=False, show_labels=True, show_conf=True, show_boxes=True, line_width=None, format=torchscript, keras=False, optimize=False, int8=False, dynamic=False, simplify=False, opset=None, workspace=4, nms=False, lr0=0.01, lrf=0.01, momentum=0.937, weight_decay=0.0005, warmup_epochs=3.0, warmup_momentum=0.8, warmup_bias_lr=0.1, box=7.5, cls=0.5, dfl=1.5, pose=12.0, kobj=1.0, label_smoothing=0.0, nbs=64, hsv_h=0.015, hsv_s=0.7, hsv_v=0.4, degrees=0.0, translate=0.1, scale=0.5, shear=0.0, perspective=0.0, flipud=0.0, fliplr=0.5, bgr=0.0, mosaic=1.0, mixup=0.0, copy_paste=0.0, auto_augment=randaugment, erasing=0.4, crop_fraction=1.0, cfg=None, tracker=botsort.yaml, save_dir=runs\\classify\\train\n",
      "\u001b[34m\u001b[1mtrain:\u001b[0m E:\\pycharmik\\geotastic_with_AI\\datasets\\train... found 17043 images in 231 classes  \n",
      "\u001b[34m\u001b[1mval:\u001b[0m E:\\pycharmik\\geotastic_with_AI\\datasets\\val... found 2169 images in 231 classes  \n",
      "\u001b[34m\u001b[1mtest:\u001b[0m E:\\pycharmik\\geotastic_with_AI\\datasets\\test... found 586 images in 231 classes  \n",
      "Overriding model.yaml nc=1000 with nc=231\n",
      "\n",
      "                   from  n    params  module                                       arguments                     \n",
      "  0                  -1  1       464  ultralytics.nn.modules.conv.Conv             [3, 16, 3, 2]                 \n",
      "  1                  -1  1      4672  ultralytics.nn.modules.conv.Conv             [16, 32, 3, 2]                \n",
      "  2                  -1  1      7360  ultralytics.nn.modules.block.C2f             [32, 32, 1, True]             \n",
      "  3                  -1  1     18560  ultralytics.nn.modules.conv.Conv             [32, 64, 3, 2]                \n",
      "  4                  -1  2     49664  ultralytics.nn.modules.block.C2f             [64, 64, 2, True]             \n",
      "  5                  -1  1     73984  ultralytics.nn.modules.conv.Conv             [64, 128, 3, 2]               \n",
      "  6                  -1  2    197632  ultralytics.nn.modules.block.C2f             [128, 128, 2, True]           \n",
      "  7                  -1  1    295424  ultralytics.nn.modules.conv.Conv             [128, 256, 3, 2]              \n",
      "  8                  -1  1    460288  ultralytics.nn.modules.block.C2f             [256, 256, 1, True]           \n",
      "  9                  -1  1    626151  ultralytics.nn.modules.head.Classify         [256, 231]                    \n",
      "YOLOv8n-cls summary: 99 layers, 1734199 parameters, 1734199 gradients, 3.6 GFLOPs\n",
      "Transferred 156/158 items from pretrained weights\n",
      "\u001b[34m\u001b[1mTensorBoard: \u001b[0mStart with 'tensorboard --logdir runs\\classify\\train', view at http://localhost:6006/\n"
     ]
    },
    {
     "name": "stderr",
     "output_type": "stream",
     "text": [
      "\u001b[34m\u001b[1mtrain: \u001b[0mScanning E:\\pycharmik\\geotastic_with_AI\\datasets\\train... 17043 images, 0 corrupt: 100%|██████████| 17043/17043 [00:46<00:00, 369.75it/s]\n"
     ]
    },
    {
     "name": "stdout",
     "output_type": "stream",
     "text": [
      "\u001b[34m\u001b[1mtrain: \u001b[0mNew cache created: E:\\pycharmik\\geotastic_with_AI\\datasets\\train.cache\n"
     ]
    },
    {
     "name": "stderr",
     "output_type": "stream",
     "text": [
      "\u001b[34m\u001b[1mval: \u001b[0mScanning E:\\pycharmik\\geotastic_with_AI\\datasets\\val... 2169 images, 0 corrupt: 100%|██████████| 2169/2169 [00:05<00:00, 377.79it/s]\n"
     ]
    },
    {
     "name": "stdout",
     "output_type": "stream",
     "text": [
      "\u001b[34m\u001b[1mval: \u001b[0mNew cache created: E:\\pycharmik\\geotastic_with_AI\\datasets\\val.cache\n",
      "\u001b[34m\u001b[1moptimizer:\u001b[0m 'optimizer=auto' found, ignoring 'lr0=0.01' and 'momentum=0.937' and determining best 'optimizer', 'lr0' and 'momentum' automatically... \n",
      "\u001b[34m\u001b[1moptimizer:\u001b[0m SGD(lr=0.01, momentum=0.9) with parameter groups 26 weight(decay=0.0), 27 weight(decay=0.0005), 27 bias(decay=0.0)\n",
      "\u001b[34m\u001b[1mTensorBoard: \u001b[0mmodel graph visualization added \n",
      "Image sizes 224 train, 224 val\n",
      "Using 0 dataloader workers\n",
      "Logging results to \u001b[1mruns\\classify\\train\u001b[0m\n",
      "Starting training for 50 epochs...\n",
      "\n",
      "      Epoch    GPU_mem       loss  Instances       Size\n"
     ]
    },
    {
     "name": "stderr",
     "output_type": "stream",
     "text": [
      "       1/50         0G      4.753          3        224: 100%|██████████| 1066/1066 [09:18<00:00,  1.91it/s]\n",
      "               classes   top1_acc   top5_acc: 100%|██████████| 68/68 [00:26<00:00,  2.56it/s]"
     ]
    },
    {
     "name": "stdout",
     "output_type": "stream",
     "text": [
      "                   all      0.596      0.844\n"
     ]
    },
    {
     "name": "stderr",
     "output_type": "stream",
     "text": [
      "\n"
     ]
    },
    {
     "name": "stdout",
     "output_type": "stream",
     "text": [
      "\n",
      "      Epoch    GPU_mem       loss  Instances       Size\n"
     ]
    },
    {
     "name": "stderr",
     "output_type": "stream",
     "text": [
      "       2/50         0G      1.554          3        224: 100%|██████████| 1066/1066 [08:41<00:00,  2.04it/s]\n",
      "               classes   top1_acc   top5_acc: 100%|██████████| 68/68 [00:23<00:00,  2.85it/s]"
     ]
    },
    {
     "name": "stdout",
     "output_type": "stream",
     "text": [
      "                   all      0.896      0.993\n"
     ]
    },
    {
     "name": "stderr",
     "output_type": "stream",
     "text": [
      "\n"
     ]
    },
    {
     "name": "stdout",
     "output_type": "stream",
     "text": [
      "\n",
      "      Epoch    GPU_mem       loss  Instances       Size\n"
     ]
    },
    {
     "name": "stderr",
     "output_type": "stream",
     "text": [
      "       3/50         0G     0.8495          3        224: 100%|██████████| 1066/1066 [08:06<00:00,  2.19it/s]\n",
      "               classes   top1_acc   top5_acc: 100%|██████████| 68/68 [00:23<00:00,  2.88it/s]"
     ]
    },
    {
     "name": "stdout",
     "output_type": "stream",
     "text": [
      "                   all      0.913      0.988\n"
     ]
    },
    {
     "name": "stderr",
     "output_type": "stream",
     "text": [
      "\n"
     ]
    },
    {
     "name": "stdout",
     "output_type": "stream",
     "text": [
      "\n",
      "      Epoch    GPU_mem       loss  Instances       Size\n"
     ]
    },
    {
     "name": "stderr",
     "output_type": "stream",
     "text": [
      "       4/50         0G     0.7812          3        224: 100%|██████████| 1066/1066 [10:22<00:00,  1.71it/s]\n",
      "               classes   top1_acc   top5_acc: 100%|██████████| 68/68 [00:27<00:00,  2.44it/s]"
     ]
    },
    {
     "name": "stdout",
     "output_type": "stream",
     "text": [
      "                   all      0.944      0.998\n"
     ]
    },
    {
     "name": "stderr",
     "output_type": "stream",
     "text": [
      "\n"
     ]
    },
    {
     "name": "stdout",
     "output_type": "stream",
     "text": [
      "\n",
      "      Epoch    GPU_mem       loss  Instances       Size\n"
     ]
    },
    {
     "name": "stderr",
     "output_type": "stream",
     "text": [
      "       5/50         0G     0.6044          3        224: 100%|██████████| 1066/1066 [09:50<00:00,  1.80it/s]\n",
      "               classes   top1_acc   top5_acc: 100%|██████████| 68/68 [00:32<00:00,  2.08it/s]"
     ]
    },
    {
     "name": "stdout",
     "output_type": "stream",
     "text": [
      "                   all      0.964          1\n"
     ]
    },
    {
     "name": "stderr",
     "output_type": "stream",
     "text": [
      "\n"
     ]
    },
    {
     "name": "stdout",
     "output_type": "stream",
     "text": [
      "\n",
      "      Epoch    GPU_mem       loss  Instances       Size\n"
     ]
    },
    {
     "name": "stderr",
     "output_type": "stream",
     "text": [
      "       6/50         0G     0.5349          3        224: 100%|██████████| 1066/1066 [10:01<00:00,  1.77it/s]\n",
      "               classes   top1_acc   top5_acc: 100%|██████████| 68/68 [00:24<00:00,  2.79it/s]"
     ]
    },
    {
     "name": "stdout",
     "output_type": "stream",
     "text": [
      "                   all      0.965          1\n"
     ]
    },
    {
     "name": "stderr",
     "output_type": "stream",
     "text": [
      "\n"
     ]
    },
    {
     "name": "stdout",
     "output_type": "stream",
     "text": [
      "\n",
      "      Epoch    GPU_mem       loss  Instances       Size\n"
     ]
    },
    {
     "name": "stderr",
     "output_type": "stream",
     "text": [
      "       7/50         0G     0.4763          3        224: 100%|██████████| 1066/1066 [09:39<00:00,  1.84it/s]\n",
      "               classes   top1_acc   top5_acc: 100%|██████████| 68/68 [00:26<00:00,  2.56it/s]"
     ]
    },
    {
     "name": "stdout",
     "output_type": "stream",
     "text": [
      "                   all      0.963          1\n"
     ]
    },
    {
     "name": "stderr",
     "output_type": "stream",
     "text": [
      "\n"
     ]
    },
    {
     "name": "stdout",
     "output_type": "stream",
     "text": [
      "\n",
      "      Epoch    GPU_mem       loss  Instances       Size\n"
     ]
    },
    {
     "name": "stderr",
     "output_type": "stream",
     "text": [
      "       8/50         0G     0.4375          3        224: 100%|██████████| 1066/1066 [10:14<00:00,  1.73it/s]\n",
      "               classes   top1_acc   top5_acc: 100%|██████████| 68/68 [00:28<00:00,  2.36it/s]"
     ]
    },
    {
     "name": "stdout",
     "output_type": "stream",
     "text": [
      "                   all      0.974          1\n"
     ]
    },
    {
     "name": "stderr",
     "output_type": "stream",
     "text": [
      "\n"
     ]
    },
    {
     "name": "stdout",
     "output_type": "stream",
     "text": [
      "\n",
      "      Epoch    GPU_mem       loss  Instances       Size\n"
     ]
    },
    {
     "name": "stderr",
     "output_type": "stream",
     "text": [
      "       9/50         0G     0.4229          3        224: 100%|██████████| 1066/1066 [09:13<00:00,  1.93it/s]\n",
      "               classes   top1_acc   top5_acc: 100%|██████████| 68/68 [00:26<00:00,  2.56it/s]"
     ]
    },
    {
     "name": "stdout",
     "output_type": "stream",
     "text": [
      "                   all      0.961          1\n"
     ]
    },
    {
     "name": "stderr",
     "output_type": "stream",
     "text": [
      "\n"
     ]
    },
    {
     "name": "stdout",
     "output_type": "stream",
     "text": [
      "\n",
      "      Epoch    GPU_mem       loss  Instances       Size\n"
     ]
    },
    {
     "name": "stderr",
     "output_type": "stream",
     "text": [
      "      10/50         0G     0.3834          3        224: 100%|██████████| 1066/1066 [09:13<00:00,  1.93it/s]\n",
      "               classes   top1_acc   top5_acc: 100%|██████████| 68/68 [00:26<00:00,  2.57it/s]"
     ]
    },
    {
     "name": "stdout",
     "output_type": "stream",
     "text": [
      "                   all       0.98          1\n"
     ]
    },
    {
     "name": "stderr",
     "output_type": "stream",
     "text": [
      "\n"
     ]
    },
    {
     "name": "stdout",
     "output_type": "stream",
     "text": [
      "\n",
      "      Epoch    GPU_mem       loss  Instances       Size\n"
     ]
    },
    {
     "name": "stderr",
     "output_type": "stream",
     "text": [
      "      11/50         0G     0.3821          3        224: 100%|██████████| 1066/1066 [08:52<00:00,  2.00it/s]\n",
      "               classes   top1_acc   top5_acc: 100%|██████████| 68/68 [00:22<00:00,  3.04it/s]"
     ]
    },
    {
     "name": "stdout",
     "output_type": "stream",
     "text": [
      "                   all      0.972          1\n"
     ]
    },
    {
     "name": "stderr",
     "output_type": "stream",
     "text": [
      "\n"
     ]
    },
    {
     "name": "stdout",
     "output_type": "stream",
     "text": [
      "\n",
      "      Epoch    GPU_mem       loss  Instances       Size\n"
     ]
    },
    {
     "name": "stderr",
     "output_type": "stream",
     "text": [
      "      12/50         0G     0.3478          3        224: 100%|██████████| 1066/1066 [07:36<00:00,  2.33it/s]\n",
      "               classes   top1_acc   top5_acc: 100%|██████████| 68/68 [00:24<00:00,  2.82it/s]"
     ]
    },
    {
     "name": "stdout",
     "output_type": "stream",
     "text": [
      "                   all      0.982          1\n"
     ]
    },
    {
     "name": "stderr",
     "output_type": "stream",
     "text": [
      "\n"
     ]
    },
    {
     "name": "stdout",
     "output_type": "stream",
     "text": [
      "\n",
      "      Epoch    GPU_mem       loss  Instances       Size\n"
     ]
    },
    {
     "name": "stderr",
     "output_type": "stream",
     "text": [
      "      13/50         0G     0.3518          3        224: 100%|██████████| 1066/1066 [07:35<00:00,  2.34it/s]\n",
      "               classes   top1_acc   top5_acc: 100%|██████████| 68/68 [00:22<00:00,  3.06it/s]"
     ]
    },
    {
     "name": "stdout",
     "output_type": "stream",
     "text": [
      "                   all      0.987          1\n"
     ]
    },
    {
     "name": "stderr",
     "output_type": "stream",
     "text": [
      "\n"
     ]
    },
    {
     "name": "stdout",
     "output_type": "stream",
     "text": [
      "\n",
      "      Epoch    GPU_mem       loss  Instances       Size\n"
     ]
    },
    {
     "name": "stderr",
     "output_type": "stream",
     "text": [
      "      14/50         0G     0.3225          3        224: 100%|██████████| 1066/1066 [07:33<00:00,  2.35it/s]\n",
      "               classes   top1_acc   top5_acc: 100%|██████████| 68/68 [00:22<00:00,  3.05it/s]"
     ]
    },
    {
     "name": "stdout",
     "output_type": "stream",
     "text": [
      "                   all      0.988          1\n"
     ]
    },
    {
     "name": "stderr",
     "output_type": "stream",
     "text": [
      "\n"
     ]
    },
    {
     "name": "stdout",
     "output_type": "stream",
     "text": [
      "\n",
      "      Epoch    GPU_mem       loss  Instances       Size\n"
     ]
    },
    {
     "name": "stderr",
     "output_type": "stream",
     "text": [
      "      15/50         0G     0.3123          3        224: 100%|██████████| 1066/1066 [07:35<00:00,  2.34it/s]\n",
      "               classes   top1_acc   top5_acc: 100%|██████████| 68/68 [00:22<00:00,  3.05it/s]"
     ]
    },
    {
     "name": "stdout",
     "output_type": "stream",
     "text": [
      "                   all      0.987          1\n"
     ]
    },
    {
     "name": "stderr",
     "output_type": "stream",
     "text": [
      "\n"
     ]
    },
    {
     "name": "stdout",
     "output_type": "stream",
     "text": [
      "\n",
      "      Epoch    GPU_mem       loss  Instances       Size\n"
     ]
    },
    {
     "name": "stderr",
     "output_type": "stream",
     "text": [
      "      16/50         0G     0.3068          3        224: 100%|██████████| 1066/1066 [07:32<00:00,  2.35it/s]\n",
      "               classes   top1_acc   top5_acc: 100%|██████████| 68/68 [00:22<00:00,  3.06it/s]"
     ]
    },
    {
     "name": "stdout",
     "output_type": "stream",
     "text": [
      "                   all      0.985          1\n"
     ]
    },
    {
     "name": "stderr",
     "output_type": "stream",
     "text": [
      "\n"
     ]
    },
    {
     "name": "stdout",
     "output_type": "stream",
     "text": [
      "\n",
      "      Epoch    GPU_mem       loss  Instances       Size\n"
     ]
    },
    {
     "name": "stderr",
     "output_type": "stream",
     "text": [
      "      17/50         0G     0.2938          3        224: 100%|██████████| 1066/1066 [07:32<00:00,  2.35it/s]\n",
      "               classes   top1_acc   top5_acc: 100%|██████████| 68/68 [00:22<00:00,  3.06it/s]"
     ]
    },
    {
     "name": "stdout",
     "output_type": "stream",
     "text": [
      "                   all      0.988          1\n"
     ]
    },
    {
     "name": "stderr",
     "output_type": "stream",
     "text": [
      "\n"
     ]
    },
    {
     "name": "stdout",
     "output_type": "stream",
     "text": [
      "\n",
      "      Epoch    GPU_mem       loss  Instances       Size\n"
     ]
    },
    {
     "name": "stderr",
     "output_type": "stream",
     "text": [
      "      18/50         0G     0.2871          3        224: 100%|██████████| 1066/1066 [07:32<00:00,  2.36it/s]\n",
      "               classes   top1_acc   top5_acc: 100%|██████████| 68/68 [00:22<00:00,  3.06it/s]"
     ]
    },
    {
     "name": "stdout",
     "output_type": "stream",
     "text": [
      "                   all       0.99          1\n"
     ]
    },
    {
     "name": "stderr",
     "output_type": "stream",
     "text": [
      "\n"
     ]
    },
    {
     "name": "stdout",
     "output_type": "stream",
     "text": [
      "\n",
      "      Epoch    GPU_mem       loss  Instances       Size\n"
     ]
    },
    {
     "name": "stderr",
     "output_type": "stream",
     "text": [
      "      19/50         0G     0.2903          3        224: 100%|██████████| 1066/1066 [07:33<00:00,  2.35it/s]\n",
      "               classes   top1_acc   top5_acc: 100%|██████████| 68/68 [00:22<00:00,  3.06it/s]"
     ]
    },
    {
     "name": "stdout",
     "output_type": "stream",
     "text": [
      "                   all       0.99          1\n"
     ]
    },
    {
     "name": "stderr",
     "output_type": "stream",
     "text": [
      "\n"
     ]
    },
    {
     "name": "stdout",
     "output_type": "stream",
     "text": [
      "\n",
      "      Epoch    GPU_mem       loss  Instances       Size\n"
     ]
    },
    {
     "name": "stderr",
     "output_type": "stream",
     "text": [
      "      20/50         0G     0.2749          3        224: 100%|██████████| 1066/1066 [07:32<00:00,  2.36it/s]\n",
      "               classes   top1_acc   top5_acc: 100%|██████████| 68/68 [00:22<00:00,  3.06it/s]"
     ]
    },
    {
     "name": "stdout",
     "output_type": "stream",
     "text": [
      "                   all      0.987          1\n"
     ]
    },
    {
     "name": "stderr",
     "output_type": "stream",
     "text": [
      "\n"
     ]
    },
    {
     "name": "stdout",
     "output_type": "stream",
     "text": [
      "\n",
      "      Epoch    GPU_mem       loss  Instances       Size\n"
     ]
    },
    {
     "name": "stderr",
     "output_type": "stream",
     "text": [
      "      21/50         0G     0.2765          3        224: 100%|██████████| 1066/1066 [07:33<00:00,  2.35it/s]\n",
      "               classes   top1_acc   top5_acc: 100%|██████████| 68/68 [00:22<00:00,  3.06it/s]"
     ]
    },
    {
     "name": "stdout",
     "output_type": "stream",
     "text": [
      "                   all      0.987          1\n"
     ]
    },
    {
     "name": "stderr",
     "output_type": "stream",
     "text": [
      "\n"
     ]
    },
    {
     "name": "stdout",
     "output_type": "stream",
     "text": [
      "\n",
      "      Epoch    GPU_mem       loss  Instances       Size\n"
     ]
    },
    {
     "name": "stderr",
     "output_type": "stream",
     "text": [
      "      22/50         0G     0.2648          3        224: 100%|██████████| 1066/1066 [07:33<00:00,  2.35it/s]\n",
      "               classes   top1_acc   top5_acc: 100%|██████████| 68/68 [00:22<00:00,  3.05it/s]"
     ]
    },
    {
     "name": "stdout",
     "output_type": "stream",
     "text": [
      "                   all      0.993          1\n"
     ]
    },
    {
     "name": "stderr",
     "output_type": "stream",
     "text": [
      "\n"
     ]
    },
    {
     "name": "stdout",
     "output_type": "stream",
     "text": [
      "\n",
      "      Epoch    GPU_mem       loss  Instances       Size\n"
     ]
    },
    {
     "name": "stderr",
     "output_type": "stream",
     "text": [
      "      23/50         0G     0.2469          3        224: 100%|██████████| 1066/1066 [07:33<00:00,  2.35it/s]\n",
      "               classes   top1_acc   top5_acc: 100%|██████████| 68/68 [00:22<00:00,  3.06it/s]"
     ]
    },
    {
     "name": "stdout",
     "output_type": "stream",
     "text": [
      "                   all      0.989          1\n"
     ]
    },
    {
     "name": "stderr",
     "output_type": "stream",
     "text": [
      "\n"
     ]
    },
    {
     "name": "stdout",
     "output_type": "stream",
     "text": [
      "\n",
      "      Epoch    GPU_mem       loss  Instances       Size\n"
     ]
    },
    {
     "name": "stderr",
     "output_type": "stream",
     "text": [
      "      24/50         0G      0.255          3        224: 100%|██████████| 1066/1066 [07:33<00:00,  2.35it/s]\n",
      "               classes   top1_acc   top5_acc: 100%|██████████| 68/68 [00:22<00:00,  3.06it/s]"
     ]
    },
    {
     "name": "stdout",
     "output_type": "stream",
     "text": [
      "                   all      0.992          1\n"
     ]
    },
    {
     "name": "stderr",
     "output_type": "stream",
     "text": [
      "\n"
     ]
    },
    {
     "name": "stdout",
     "output_type": "stream",
     "text": [
      "\n",
      "      Epoch    GPU_mem       loss  Instances       Size\n"
     ]
    },
    {
     "name": "stderr",
     "output_type": "stream",
     "text": [
      "      25/50         0G     0.2333          3        224: 100%|██████████| 1066/1066 [07:33<00:00,  2.35it/s]\n",
      "               classes   top1_acc   top5_acc: 100%|██████████| 68/68 [00:22<00:00,  3.06it/s]"
     ]
    },
    {
     "name": "stdout",
     "output_type": "stream",
     "text": [
      "                   all      0.991          1\n"
     ]
    },
    {
     "name": "stderr",
     "output_type": "stream",
     "text": [
      "\n"
     ]
    },
    {
     "name": "stdout",
     "output_type": "stream",
     "text": [
      "\n",
      "      Epoch    GPU_mem       loss  Instances       Size\n"
     ]
    },
    {
     "name": "stderr",
     "output_type": "stream",
     "text": [
      "      26/50         0G      0.231          3        224: 100%|██████████| 1066/1066 [07:33<00:00,  2.35it/s]\n",
      "               classes   top1_acc   top5_acc: 100%|██████████| 68/68 [00:22<00:00,  3.06it/s]"
     ]
    },
    {
     "name": "stdout",
     "output_type": "stream",
     "text": [
      "                   all      0.992          1\n"
     ]
    },
    {
     "name": "stderr",
     "output_type": "stream",
     "text": [
      "\n"
     ]
    },
    {
     "name": "stdout",
     "output_type": "stream",
     "text": [
      "\n",
      "      Epoch    GPU_mem       loss  Instances       Size\n"
     ]
    },
    {
     "name": "stderr",
     "output_type": "stream",
     "text": [
      "      27/50         0G     0.2276          3        224: 100%|██████████| 1066/1066 [07:33<00:00,  2.35it/s]\n",
      "               classes   top1_acc   top5_acc: 100%|██████████| 68/68 [00:22<00:00,  3.05it/s]"
     ]
    },
    {
     "name": "stdout",
     "output_type": "stream",
     "text": [
      "                   all      0.993          1\n"
     ]
    },
    {
     "name": "stderr",
     "output_type": "stream",
     "text": [
      "\n"
     ]
    },
    {
     "name": "stdout",
     "output_type": "stream",
     "text": [
      "\n",
      "      Epoch    GPU_mem       loss  Instances       Size\n"
     ]
    },
    {
     "name": "stderr",
     "output_type": "stream",
     "text": [
      "      28/50         0G     0.2282          3        224: 100%|██████████| 1066/1066 [07:33<00:00,  2.35it/s]\n",
      "               classes   top1_acc   top5_acc: 100%|██████████| 68/68 [00:22<00:00,  3.06it/s]"
     ]
    },
    {
     "name": "stdout",
     "output_type": "stream",
     "text": [
      "                   all      0.992          1\n"
     ]
    },
    {
     "name": "stderr",
     "output_type": "stream",
     "text": [
      "\n"
     ]
    },
    {
     "name": "stdout",
     "output_type": "stream",
     "text": [
      "\n",
      "      Epoch    GPU_mem       loss  Instances       Size\n"
     ]
    },
    {
     "name": "stderr",
     "output_type": "stream",
     "text": [
      "      29/50         0G     0.2157          3        224: 100%|██████████| 1066/1066 [07:33<00:00,  2.35it/s]\n",
      "               classes   top1_acc   top5_acc: 100%|██████████| 68/68 [00:22<00:00,  3.05it/s]"
     ]
    },
    {
     "name": "stdout",
     "output_type": "stream",
     "text": [
      "                   all      0.993          1\n"
     ]
    },
    {
     "name": "stderr",
     "output_type": "stream",
     "text": [
      "\n"
     ]
    },
    {
     "name": "stdout",
     "output_type": "stream",
     "text": [
      "\n",
      "      Epoch    GPU_mem       loss  Instances       Size\n"
     ]
    },
    {
     "name": "stderr",
     "output_type": "stream",
     "text": [
      "      30/50         0G     0.2177          3        224: 100%|██████████| 1066/1066 [07:34<00:00,  2.35it/s]\n",
      "               classes   top1_acc   top5_acc: 100%|██████████| 68/68 [00:22<00:00,  3.04it/s]"
     ]
    },
    {
     "name": "stdout",
     "output_type": "stream",
     "text": [
      "                   all      0.995          1\n"
     ]
    },
    {
     "name": "stderr",
     "output_type": "stream",
     "text": [
      "\n"
     ]
    },
    {
     "name": "stdout",
     "output_type": "stream",
     "text": [
      "\n",
      "      Epoch    GPU_mem       loss  Instances       Size\n"
     ]
    },
    {
     "name": "stderr",
     "output_type": "stream",
     "text": [
      "      31/50         0G     0.2057          3        224: 100%|██████████| 1066/1066 [07:34<00:00,  2.35it/s]\n",
      "               classes   top1_acc   top5_acc: 100%|██████████| 68/68 [00:22<00:00,  3.05it/s]"
     ]
    },
    {
     "name": "stdout",
     "output_type": "stream",
     "text": [
      "                   all      0.995          1\n"
     ]
    },
    {
     "name": "stderr",
     "output_type": "stream",
     "text": [
      "\n"
     ]
    },
    {
     "name": "stdout",
     "output_type": "stream",
     "text": [
      "\n",
      "      Epoch    GPU_mem       loss  Instances       Size\n"
     ]
    },
    {
     "name": "stderr",
     "output_type": "stream",
     "text": [
      "      32/50         0G     0.2037          3        224: 100%|██████████| 1066/1066 [07:33<00:00,  2.35it/s]\n",
      "               classes   top1_acc   top5_acc: 100%|██████████| 68/68 [00:22<00:00,  3.05it/s]"
     ]
    },
    {
     "name": "stdout",
     "output_type": "stream",
     "text": [
      "                   all      0.995          1\n"
     ]
    },
    {
     "name": "stderr",
     "output_type": "stream",
     "text": [
      "\n"
     ]
    },
    {
     "name": "stdout",
     "output_type": "stream",
     "text": [
      "\n",
      "      Epoch    GPU_mem       loss  Instances       Size\n"
     ]
    },
    {
     "name": "stderr",
     "output_type": "stream",
     "text": [
      "      33/50         0G     0.2039          3        224: 100%|██████████| 1066/1066 [07:34<00:00,  2.35it/s]\n",
      "               classes   top1_acc   top5_acc: 100%|██████████| 68/68 [00:22<00:00,  3.05it/s]"
     ]
    },
    {
     "name": "stdout",
     "output_type": "stream",
     "text": [
      "                   all      0.995          1\n"
     ]
    },
    {
     "name": "stderr",
     "output_type": "stream",
     "text": [
      "\n"
     ]
    },
    {
     "name": "stdout",
     "output_type": "stream",
     "text": [
      "\n",
      "      Epoch    GPU_mem       loss  Instances       Size\n"
     ]
    },
    {
     "name": "stderr",
     "output_type": "stream",
     "text": [
      "      34/50         0G     0.2107          3        224: 100%|██████████| 1066/1066 [07:33<00:00,  2.35it/s]\n",
      "               classes   top1_acc   top5_acc: 100%|██████████| 68/68 [00:22<00:00,  3.05it/s]"
     ]
    },
    {
     "name": "stdout",
     "output_type": "stream",
     "text": [
      "                   all      0.996          1\n"
     ]
    },
    {
     "name": "stderr",
     "output_type": "stream",
     "text": [
      "\n"
     ]
    },
    {
     "name": "stdout",
     "output_type": "stream",
     "text": [
      "\n",
      "      Epoch    GPU_mem       loss  Instances       Size\n"
     ]
    },
    {
     "name": "stderr",
     "output_type": "stream",
     "text": [
      "      35/50         0G     0.1898          3        224: 100%|██████████| 1066/1066 [07:33<00:00,  2.35it/s]\n",
      "               classes   top1_acc   top5_acc: 100%|██████████| 68/68 [00:22<00:00,  3.05it/s]"
     ]
    },
    {
     "name": "stdout",
     "output_type": "stream",
     "text": [
      "                   all      0.994          1\n"
     ]
    },
    {
     "name": "stderr",
     "output_type": "stream",
     "text": [
      "\n"
     ]
    },
    {
     "name": "stdout",
     "output_type": "stream",
     "text": [
      "\n",
      "      Epoch    GPU_mem       loss  Instances       Size\n"
     ]
    },
    {
     "name": "stderr",
     "output_type": "stream",
     "text": [
      "      36/50         0G     0.1888          3        224: 100%|██████████| 1066/1066 [07:35<00:00,  2.34it/s]\n",
      "               classes   top1_acc   top5_acc: 100%|██████████| 68/68 [00:22<00:00,  3.02it/s]"
     ]
    },
    {
     "name": "stdout",
     "output_type": "stream",
     "text": [
      "                   all      0.996          1\n"
     ]
    },
    {
     "name": "stderr",
     "output_type": "stream",
     "text": [
      "\n"
     ]
    },
    {
     "name": "stdout",
     "output_type": "stream",
     "text": [
      "\n",
      "      Epoch    GPU_mem       loss  Instances       Size\n"
     ]
    },
    {
     "name": "stderr",
     "output_type": "stream",
     "text": [
      "      37/50         0G     0.1832          3        224: 100%|██████████| 1066/1066 [07:36<00:00,  2.34it/s]\n",
      "               classes   top1_acc   top5_acc: 100%|██████████| 68/68 [00:22<00:00,  3.06it/s]"
     ]
    },
    {
     "name": "stdout",
     "output_type": "stream",
     "text": [
      "                   all      0.996          1\n"
     ]
    },
    {
     "name": "stderr",
     "output_type": "stream",
     "text": [
      "\n"
     ]
    },
    {
     "name": "stdout",
     "output_type": "stream",
     "text": [
      "\n",
      "      Epoch    GPU_mem       loss  Instances       Size\n"
     ]
    },
    {
     "name": "stderr",
     "output_type": "stream",
     "text": [
      "      38/50         0G     0.1826          3        224: 100%|██████████| 1066/1066 [07:33<00:00,  2.35it/s]\n",
      "               classes   top1_acc   top5_acc: 100%|██████████| 68/68 [00:22<00:00,  3.05it/s]"
     ]
    },
    {
     "name": "stdout",
     "output_type": "stream",
     "text": [
      "                   all      0.995          1\n"
     ]
    },
    {
     "name": "stderr",
     "output_type": "stream",
     "text": [
      "\n"
     ]
    },
    {
     "name": "stdout",
     "output_type": "stream",
     "text": [
      "\n",
      "      Epoch    GPU_mem       loss  Instances       Size\n"
     ]
    },
    {
     "name": "stderr",
     "output_type": "stream",
     "text": [
      "      39/50         0G     0.1746          3        224: 100%|██████████| 1066/1066 [07:34<00:00,  2.35it/s]\n",
      "               classes   top1_acc   top5_acc: 100%|██████████| 68/68 [00:22<00:00,  3.04it/s]"
     ]
    },
    {
     "name": "stdout",
     "output_type": "stream",
     "text": [
      "                   all      0.996          1\n"
     ]
    },
    {
     "name": "stderr",
     "output_type": "stream",
     "text": [
      "\n"
     ]
    },
    {
     "name": "stdout",
     "output_type": "stream",
     "text": [
      "\n",
      "      Epoch    GPU_mem       loss  Instances       Size\n"
     ]
    },
    {
     "name": "stderr",
     "output_type": "stream",
     "text": [
      "      40/50         0G     0.1827          3        224: 100%|██████████| 1066/1066 [07:33<00:00,  2.35it/s]\n",
      "               classes   top1_acc   top5_acc: 100%|██████████| 68/68 [00:22<00:00,  3.05it/s]"
     ]
    },
    {
     "name": "stdout",
     "output_type": "stream",
     "text": [
      "                   all      0.997          1\n"
     ]
    },
    {
     "name": "stderr",
     "output_type": "stream",
     "text": [
      "\n"
     ]
    },
    {
     "name": "stdout",
     "output_type": "stream",
     "text": [
      "\n",
      "      Epoch    GPU_mem       loss  Instances       Size\n"
     ]
    },
    {
     "name": "stderr",
     "output_type": "stream",
     "text": [
      "      41/50         0G     0.1731          3        224: 100%|██████████| 1066/1066 [07:34<00:00,  2.35it/s]\n",
      "               classes   top1_acc   top5_acc: 100%|██████████| 68/68 [00:22<00:00,  3.05it/s]"
     ]
    },
    {
     "name": "stdout",
     "output_type": "stream",
     "text": [
      "                   all      0.996          1\n"
     ]
    },
    {
     "name": "stderr",
     "output_type": "stream",
     "text": [
      "\n"
     ]
    },
    {
     "name": "stdout",
     "output_type": "stream",
     "text": [
      "\n",
      "      Epoch    GPU_mem       loss  Instances       Size\n"
     ]
    },
    {
     "name": "stderr",
     "output_type": "stream",
     "text": [
      "      42/50         0G     0.1702          3        224: 100%|██████████| 1066/1066 [07:33<00:00,  2.35it/s]\n",
      "               classes   top1_acc   top5_acc: 100%|██████████| 68/68 [00:22<00:00,  3.06it/s]"
     ]
    },
    {
     "name": "stdout",
     "output_type": "stream",
     "text": [
      "                   all      0.996          1\n"
     ]
    },
    {
     "name": "stderr",
     "output_type": "stream",
     "text": [
      "\n"
     ]
    },
    {
     "name": "stdout",
     "output_type": "stream",
     "text": [
      "\n",
      "      Epoch    GPU_mem       loss  Instances       Size\n"
     ]
    },
    {
     "name": "stderr",
     "output_type": "stream",
     "text": [
      "      43/50         0G     0.1735          3        224: 100%|██████████| 1066/1066 [07:34<00:00,  2.34it/s]\n",
      "               classes   top1_acc   top5_acc: 100%|██████████| 68/68 [00:22<00:00,  3.06it/s]"
     ]
    },
    {
     "name": "stdout",
     "output_type": "stream",
     "text": [
      "                   all      0.994          1\n"
     ]
    },
    {
     "name": "stderr",
     "output_type": "stream",
     "text": [
      "\n"
     ]
    },
    {
     "name": "stdout",
     "output_type": "stream",
     "text": [
      "\n",
      "      Epoch    GPU_mem       loss  Instances       Size\n"
     ]
    },
    {
     "name": "stderr",
     "output_type": "stream",
     "text": [
      "      44/50         0G      0.158          3        224: 100%|██████████| 1066/1066 [07:33<00:00,  2.35it/s]\n",
      "               classes   top1_acc   top5_acc: 100%|██████████| 68/68 [00:22<00:00,  3.05it/s]"
     ]
    },
    {
     "name": "stdout",
     "output_type": "stream",
     "text": [
      "                   all      0.995          1\n"
     ]
    },
    {
     "name": "stderr",
     "output_type": "stream",
     "text": [
      "\n"
     ]
    },
    {
     "name": "stdout",
     "output_type": "stream",
     "text": [
      "\n",
      "      Epoch    GPU_mem       loss  Instances       Size\n"
     ]
    },
    {
     "name": "stderr",
     "output_type": "stream",
     "text": [
      "      45/50         0G     0.1559          3        224: 100%|██████████| 1066/1066 [07:33<00:00,  2.35it/s]\n",
      "               classes   top1_acc   top5_acc: 100%|██████████| 68/68 [00:22<00:00,  3.04it/s]"
     ]
    },
    {
     "name": "stdout",
     "output_type": "stream",
     "text": [
      "                   all      0.995          1\n"
     ]
    },
    {
     "name": "stderr",
     "output_type": "stream",
     "text": [
      "\n"
     ]
    },
    {
     "name": "stdout",
     "output_type": "stream",
     "text": [
      "\n",
      "      Epoch    GPU_mem       loss  Instances       Size\n"
     ]
    },
    {
     "name": "stderr",
     "output_type": "stream",
     "text": [
      "      46/50         0G     0.1472          3        224: 100%|██████████| 1066/1066 [07:34<00:00,  2.35it/s]\n",
      "               classes   top1_acc   top5_acc: 100%|██████████| 68/68 [00:22<00:00,  3.03it/s]"
     ]
    },
    {
     "name": "stdout",
     "output_type": "stream",
     "text": [
      "                   all      0.995          1\n"
     ]
    },
    {
     "name": "stderr",
     "output_type": "stream",
     "text": [
      "\n"
     ]
    },
    {
     "name": "stdout",
     "output_type": "stream",
     "text": [
      "\n",
      "      Epoch    GPU_mem       loss  Instances       Size\n"
     ]
    },
    {
     "name": "stderr",
     "output_type": "stream",
     "text": [
      "      47/50         0G     0.1412          3        224: 100%|██████████| 1066/1066 [07:34<00:00,  2.35it/s]\n",
      "               classes   top1_acc   top5_acc: 100%|██████████| 68/68 [00:22<00:00,  3.04it/s]"
     ]
    },
    {
     "name": "stdout",
     "output_type": "stream",
     "text": [
      "                   all      0.996          1\n"
     ]
    },
    {
     "name": "stderr",
     "output_type": "stream",
     "text": [
      "\n"
     ]
    },
    {
     "name": "stdout",
     "output_type": "stream",
     "text": [
      "\n",
      "      Epoch    GPU_mem       loss  Instances       Size\n"
     ]
    },
    {
     "name": "stderr",
     "output_type": "stream",
     "text": [
      "      48/50         0G       0.15          3        224: 100%|██████████| 1066/1066 [07:34<00:00,  2.35it/s]\n",
      "               classes   top1_acc   top5_acc: 100%|██████████| 68/68 [00:22<00:00,  3.05it/s]"
     ]
    },
    {
     "name": "stdout",
     "output_type": "stream",
     "text": [
      "                   all      0.996          1\n"
     ]
    },
    {
     "name": "stderr",
     "output_type": "stream",
     "text": [
      "\n"
     ]
    },
    {
     "name": "stdout",
     "output_type": "stream",
     "text": [
      "\n",
      "      Epoch    GPU_mem       loss  Instances       Size\n"
     ]
    },
    {
     "name": "stderr",
     "output_type": "stream",
     "text": [
      "      49/50         0G     0.1469          3        224: 100%|██████████| 1066/1066 [07:33<00:00,  2.35it/s]\n",
      "               classes   top1_acc   top5_acc: 100%|██████████| 68/68 [00:22<00:00,  3.05it/s]"
     ]
    },
    {
     "name": "stdout",
     "output_type": "stream",
     "text": [
      "                   all      0.996          1\n"
     ]
    },
    {
     "name": "stderr",
     "output_type": "stream",
     "text": [
      "\n"
     ]
    },
    {
     "name": "stdout",
     "output_type": "stream",
     "text": [
      "\n",
      "      Epoch    GPU_mem       loss  Instances       Size\n"
     ]
    },
    {
     "name": "stderr",
     "output_type": "stream",
     "text": [
      "      50/50         0G     0.1367          3        224: 100%|██████████| 1066/1066 [07:33<00:00,  2.35it/s]\n",
      "               classes   top1_acc   top5_acc: 100%|██████████| 68/68 [00:22<00:00,  3.05it/s]"
     ]
    },
    {
     "name": "stdout",
     "output_type": "stream",
     "text": [
      "                   all      0.997          1\n"
     ]
    },
    {
     "name": "stderr",
     "output_type": "stream",
     "text": [
      "\n"
     ]
    },
    {
     "name": "stdout",
     "output_type": "stream",
     "text": [
      "\n",
      "50 epochs completed in 6.971 hours.\n",
      "Optimizer stripped from runs\\classify\\train\\weights\\last.pt, 3.6MB\n",
      "Optimizer stripped from runs\\classify\\train\\weights\\best.pt, 3.6MB\n",
      "\n",
      "Validating runs\\classify\\train\\weights\\best.pt...\n",
      "Ultralytics YOLOv8.2.9  Python-3.10.6 torch-2.3.0+cpu CPU (Intel Core(TM) i5-4460  3.20GHz)\n",
      "YOLOv8n-cls summary (fused): 73 layers, 1730791 parameters, 0 gradients, 3.5 GFLOPs\n",
      "\u001b[34m\u001b[1mtrain:\u001b[0m E:\\pycharmik\\geotastic_with_AI\\datasets\\train... found 17043 images in 231 classes  \n",
      "\u001b[34m\u001b[1mval:\u001b[0m E:\\pycharmik\\geotastic_with_AI\\datasets\\val... found 2169 images in 231 classes  \n",
      "\u001b[34m\u001b[1mtest:\u001b[0m E:\\pycharmik\\geotastic_with_AI\\datasets\\test... found 586 images in 231 classes  \n"
     ]
    },
    {
     "name": "stderr",
     "output_type": "stream",
     "text": [
      "               classes   top1_acc   top5_acc: 100%|██████████| 68/68 [00:20<00:00,  3.35it/s]\n"
     ]
    },
    {
     "name": "stdout",
     "output_type": "stream",
     "text": [
      "                   all      0.997          1\n",
      "Speed: 0.0ms preprocess, 6.0ms inference, 0.0ms loss, 0.0ms postprocess per image\n",
      "Results saved to \u001b[1mruns\\classify\\train\u001b[0m\n",
      "Results saved to \u001b[1mruns\\classify\\train\u001b[0m\n"
     ]
    },
    {
     "data": {
      "text/plain": [
       "ultralytics.utils.metrics.ClassifyMetrics object with attributes:\n",
       "\n",
       "confusion_matrix: <ultralytics.utils.metrics.ConfusionMatrix object at 0x0000021319F0E770>\n",
       "curves: []\n",
       "curves_results: []\n",
       "fitness: 0.9986168742179871\n",
       "keys: ['metrics/accuracy_top1', 'metrics/accuracy_top5']\n",
       "results_dict: {'metrics/accuracy_top1': 0.9972337484359741, 'metrics/accuracy_top5': 1.0, 'fitness': 0.9986168742179871}\n",
       "save_dir: WindowsPath('runs/classify/train')\n",
       "speed: {'preprocess': 0.00185843380215312, 'inference': 5.96513227143558, 'loss': 0.0, 'postprocess': 0.0}\n",
       "task: 'classify'\n",
       "top1: 0.9972337484359741\n",
       "top5: 1.0"
      ]
     },
     "execution_count": 16,
     "metadata": {},
     "output_type": "execute_result"
    }
   ],
   "source": [
    "model = YOLO(\"yolov8n-cls.pt\")\n",
    "model.train(data=\"datasets/\", epochs=50)"
   ]
  }
 ],
 "metadata": {
  "kernelspec": {
   "display_name": ".venv",
   "language": "python",
   "name": "python3"
  },
  "language_info": {
   "codemirror_mode": {
    "name": "ipython",
    "version": 3
   },
   "file_extension": ".py",
   "mimetype": "text/x-python",
   "name": "python",
   "nbconvert_exporter": "python",
   "pygments_lexer": "ipython3",
   "version": "3.10.6"
  }
 },
 "nbformat": 4,
 "nbformat_minor": 2
}
