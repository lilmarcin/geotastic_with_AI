{
 "cells": [
  {
   "cell_type": "code",
   "execution_count": 64,
   "metadata": {},
   "outputs": [],
   "source": [
    "from PIL import Image, ImageOps\n",
    "import numpy as np\n",
    "\n",
    "def dodaj_ramke(obrazek, szerokosc_ramki, rozjasnienie):\n",
    "    # Wczytanie obrazka\n",
    "    img = Image.open(obrazek)\n",
    "    img = img.convert(\"RGB\")\n",
    "    \n",
    "    # Obliczenie nowych wymiarów obrazka z ramką\n",
    "    nowa_szerokosc = img.width + 2 * szerokosc_ramki\n",
    "    nowa_wysokosc = img.height + 2 * szerokosc_ramki\n",
    "    \n",
    "    # Tworzenie nowego obrazka z ramką\n",
    "    nowy_obrazek = Image.new(img.mode, (nowa_szerokosc, nowa_wysokosc), \"black\")\n",
    "    nowy_obrazek.paste(img, (szerokosc_ramki, szerokosc_ramki))\n",
    "    nowy_obrazek = nowy_obrazek.resize((320, 320))\n",
    "\n",
    "    rozjasnione_piksele = np.array(nowy_obrazek) + 255 * rozjasnienie\n",
    "    nowy_obrazek = Image.fromarray(np.clip(rozjasnione_piksele, 0, 255).astype('uint8'))\n",
    "    \n",
    "    return nowy_obrazek\n",
    "\n",
    "# Lista różnych szerokości ramki\n",
    "szerokosci_ramki = [100, 150, 200, 250, 300, 350, 400, 500, 600, 700, 800]\n",
    "rozjasnienia = [0.1, 0.2, 0.3, 0.4, 0.5, 0.6]\n",
    "\n",
    "\n",
    "sciezka_obrazka = \"datasets/train/Western Sahara/Flag_of_the_Sahrawi_Arab_Democratic_Republic_1.png\"\n",
    "counter = 0\n",
    "for j in range(11):\n",
    "\n",
    "    szerokosc_ramki = szerokosci_ramki[j]\n",
    "    for l in range(6):\n",
    "        rozjasnienie = rozjasnienia[l]\n",
    "        # Wywołanie funkcji dodającej ramkę\n",
    "        nowy_obrazek = dodaj_ramke(sciezka_obrazka, szerokosc_ramki, rozjasnienie)\n",
    "        # Zapis nowego obrazka\n",
    "        counter +=1\n",
    "        nowy_obrazek.save(f\"datasets/train/Western Sahara/231_g0_{counter}.jpg\")\n",
    "\n"
   ]
  },
  {
   "cell_type": "code",
   "execution_count": 87,
   "metadata": {},
   "outputs": [
    {
     "name": "stdout",
     "output_type": "stream",
     "text": [
      "przenosze datasets/train/Anguilla/197_g0_5.png do datasets/val/Anguilla/197_g0_5.png\n",
      "przenosze datasets/train/Anguilla/197_g0_12.png do datasets/val/Anguilla/197_g0_12.png\n",
      "przenosze datasets/train/Anguilla/197_g0_25.png do datasets/val/Anguilla/197_g0_25.png\n",
      "przenosze datasets/train/Anguilla/197_g0_37.png do datasets/val/Anguilla/197_g0_37.png\n",
      "przenosze datasets/train/Anguilla/197_g0_50.png do datasets/val/Anguilla/197_g0_50.png\n",
      "przenosze datasets/train/American Samoa/196_g0_5.png do datasets/val/American Samoa/196_g0_5.png\n",
      "przenosze datasets/train/American Samoa/196_g0_12.png do datasets/val/American Samoa/196_g0_12.png\n",
      "przenosze datasets/train/American Samoa/196_g0_25.png do datasets/val/American Samoa/196_g0_25.png\n",
      "przenosze datasets/train/American Samoa/196_g0_37.png do datasets/val/American Samoa/196_g0_37.png\n",
      "przenosze datasets/train/American Samoa/196_g0_50.png do datasets/val/American Samoa/196_g0_50.png\n"
     ]
    }
   ],
   "source": [
    "import os\n",
    "import shutil\n",
    "\n",
    "# Lista obrazów, które mają być przeniesione do katalogu val\n",
    "\n",
    "kraje = [\n",
    "    \"Western Sahara\",\n",
    "    \"Wallis and Futuna\",\n",
    "    \"Turks and Caicos\",\n",
    "    \"Tokelau\",\n",
    "    \"Taiwan\",\n",
    "    \"South Georgia and The South Sandwich Islands\",\n",
    "    \"Sint Maarten\",\n",
    "    \"Saint Pierre and Miquelon\",\n",
    "    \"Saint Helena\",\n",
    "    \"Saint Barthelemy\",\n",
    "    \"Reunion\",\n",
    "    \"Puerto Rico\",\n",
    "    \"Northern Mariana Islands\",\n",
    "    \"Niue\",\n",
    "    \"Netherlands Antilles\",\n",
    "    \"Montserrat\",\n",
    "    \"Mayotte\",\n",
    "    \"Martinique\",\n",
    "    \"Macau\",\n",
    "    \"Isle of Man\",\n",
    "    \"Hong Kong\",\n",
    "    \"Guam\",\n",
    "    \"Guadeloupe\",\n",
    "    \"Greenland\",\n",
    "    \"Gibraltar\",\n",
    "    \"French Polynesia\",\n",
    "    \"Faroe Islands\",\n",
    "    \"Falkland Islands\",\n",
    "    \"Curacao\",\n",
    "    \"Cook Islands\",\n",
    "    \"Cayman Islands\",\n",
    "    \"British Virgin Islands\",\n",
    "    \"Bermuda\",\n",
    "    \"Aruba\",\n",
    "    \"Anguilla\",\n",
    "    \"American Samoa\",\n",
    "]\n",
    "\n",
    "obrazy_do_przeniesienia = [5, 12, 25, 37, 50]\n",
    "# Ścieżki katalogów źródłowych i docelowych\n",
    "katalog_zrodlowy = \"datasets/train/\"\n",
    "katalog_docelowy = \"datasets/val/\"\n",
    "liczba = 204\n",
    "# Przenoszenie odpowiednich obrazów dla każdego kraju\n",
    "for kraj in kraje:\n",
    "    for counter in obrazy_do_przeniesienia:\n",
    "        nazwa_pliku = f\"{kraj}/{liczba}_g0_{counter}.png\"\n",
    "        sciezka_zrodlowa = os.path.join(katalog_zrodlowy, nazwa_pliku)\n",
    "        sciezka_docelowa = os.path.join(katalog_docelowy, nazwa_pliku)\n",
    "        print(f\"przenosze {sciezka_zrodlowa} do {sciezka_docelowa}\")\n",
    "        shutil.move(sciezka_zrodlowa, sciezka_docelowa)\n",
    "    liczba -=1\n"
   ]
  },
  {
   "cell_type": "code",
   "execution_count": 90,
   "metadata": {},
   "outputs": [
    {
     "name": "stdout",
     "output_type": "stream",
     "text": [
      "['Afghanistan', 'Albania', 'Algeria', 'American Samoa', 'Andorra', 'Angola', 'Anguilla', 'Antigua and Barbuda', 'Argentina', 'Armenia', 'Aruba', 'Australia', 'Austria', 'Azerbaijan', 'Bahamas', 'Bahrain', 'Bangladesh', 'Barbados', 'Belarus', 'Belgium', 'Belize', 'Benin', 'Bermuda', 'Bhutan', 'Bolivia', 'Bosnia and Herzegovina', 'Botswana', 'Brazil', 'British Virgin Islands', 'Brunei', 'Bulgaria', 'Burkina Faso', 'Burundi', 'CA-te d-Ivoire', 'Cabo Verde', 'Cambodia', 'Cameroon', 'Canada', 'Cayman Islands', 'Central African Republic', 'Chad', 'Chile', 'China', 'Colombia', 'Comoros', 'Congo -Congo-Brazzaville-', 'Cook Islands', 'Costa Rica', 'Croatia', 'Cuba', 'Curacao', 'Cyprus', 'Czechia -Czech Republic-', 'Democratic Republic of the Congo', 'Denmark', 'Djibouti', 'Dominica', 'Dominican Republic', 'Ecuador', 'Egypt', 'El Salvador', 'Equatorial Guinea', 'Eritrea', 'Estonia', 'Eswatini -fmr- -Swaziland--', 'Ethiopia', 'Falkland Islands', 'Faroe Islands', 'Fiji', 'Finland', 'France', 'French Polynesia', 'Gabon', 'Gambia', 'Georgia', 'Germany', 'Ghana', 'Gibraltar', 'Greece', 'Greenland', 'Grenada', 'Guadeloupe', 'Guam', 'Guatemala', 'Guinea', 'Guinea-Bissau', 'Guyana', 'Haiti', 'Holy See', 'Honduras', 'Hong Kong', 'Hungary', 'Iceland', 'India', 'Indonesia', 'Iran', 'Iraq', 'Ireland', 'Isle of Man', 'Israel', 'Italy', 'Jamaica', 'Japan', 'Jordan', 'Kazakhstan', 'Kenya', 'Kiribati', 'Kuwait', 'Kyrgyzstan', 'Laos', 'Latvia', 'Lebanon', 'Lesotho', 'Liberia', 'Libya', 'Liechtenstein', 'Lithuania', 'Luxembourg', 'Macau', 'Madagascar', 'Malawi', 'Malaysia', 'Maldives', 'Mali', 'Malta', 'Marshall Islands', 'Martinique', 'Mauritania', 'Mauritius', 'Mayotte', 'Mexico', 'Micronesia', 'Moldova', 'Monaco', 'Mongolia', 'Montenegro', 'Montserrat', 'Morocco', 'Mozambique', 'Myanmar -formerly Burma-', 'Namibia', 'Nauru', 'Nepal', 'Netherlands', 'Netherlands Antilles', 'New Zealand', 'Nicaragua', 'Niger', 'Nigeria', 'Niue', 'North Korea', 'North Macedonia', 'Northern Mariana Islands', 'Norway', 'Oman', 'Pakistan', 'Palau', 'Palestine State', 'Panama', 'Papua New Guinea', 'Paraguay', 'Peru', 'Philippines', 'Poland', 'Portugal', 'Puerto Rico', 'Qatar', 'Reunion', 'Romania', 'Russia', 'Rwanda', 'Saint Barthelemy', 'Saint Helena', 'Saint Kitts and Nevis', 'Saint Lucia', 'Saint Pierre and Miquelon', 'Saint Vincent and the Grenadines', 'Samoa', 'San Marino', 'Sao Tome and Principe', 'Saudi Arabia', 'Senegal', 'Serbia', 'Seychelles', 'Sierra Leone', 'Singapore', 'Sint Maarten', 'Slovakia', 'Slovenia', 'Solomon Islands', 'Somalia', 'South Africa', 'South Georgia and The South Sandwich Islands', 'South Korea', 'South Sudan', 'Spain', 'Sri Lanka', 'Sudan', 'Suriname', 'Sweden', 'Switzerland', 'Syria', 'Taiwan', 'Tajikistan', 'Tanzania', 'Thailand', 'Timor-Leste', 'Togo', 'Tokelau', 'Tonga', 'Trinidad and Tobago', 'Tunisia', 'Turkey', 'Turkmenistan', 'Turks and Caicos', 'Tuvalu', 'Uganda', 'Ukraine', 'United Arab Emirates', 'United Kingdom', 'United States of America', 'Uruguay', 'Uzbekistan', 'Vanuatu', 'Venezuela', 'Vietnam', 'Wallis and Futuna', 'Western Sahara', 'Yemen', 'Zambia', 'Zimbabwe']\n"
     ]
    }
   ],
   "source": [
    "classes = ['Afghanistan', 'Albania', 'Algeria', 'Andorra', 'Angola', 'Antigua and Barbuda', 'Argentina', 'Armenia', 'Australia', 'Austria', 'Azerbaijan', 'Bahamas', 'Bahrain', 'Bangladesh', 'Barbados', 'Belarus', 'Belgium', 'Belize', 'Benin', 'Bhutan', 'Bolivia', 'Bosnia and Herzegovina', 'Botswana', 'Brazil', 'Brunei', 'Bulgaria', 'Burkina Faso', 'Burundi', 'CA-te d-Ivoire', 'Cabo Verde', 'Cambodia', 'Cameroon', 'Canada', 'Central African Republic', 'Chad', 'Chile', 'China', 'Colombia', 'Comoros', 'Congo -Congo-Brazzaville-', 'Costa Rica', 'Croatia', 'Cuba', 'Cyprus', 'Czechia -Czech Republic-', 'Democratic Republic of the Congo', 'Denmark', 'Djibouti', 'Dominica', 'Dominican Republic', 'Ecuador', 'Egypt', 'El Salvador', 'Equatorial Guinea', 'Eritrea', 'Estonia', 'Eswatini -fmr- -Swaziland--', 'Ethiopia', 'Fiji', 'Finland', 'France', 'Gabon', 'Gambia', 'Georgia', 'Germany', 'Ghana', 'Greece', 'Grenada', 'Guatemala', 'Guinea', 'Guinea-Bissau', 'Guyana', 'Haiti', 'Holy See', 'Honduras', 'Hungary', 'Iceland', 'India', 'Indonesia', 'Iran', 'Iraq', 'Ireland', 'Israel', 'Italy', 'Jamaica', 'Japan', 'Jordan', 'Kazakhstan', 'Kenya', 'Kiribati', 'Kuwait', 'Kyrgyzstan', 'Laos', 'Latvia', 'Lebanon', 'Lesotho', 'Liberia', 'Libya', 'Liechtenstein', 'Lithuania', 'Luxembourg', 'Madagascar', 'Malawi', 'Malaysia', 'Maldives', 'Mali', 'Malta', 'Marshall Islands', 'Mauritania', 'Mauritius', 'Mexico', 'Micronesia', 'Moldova', 'Monaco', 'Mongolia', 'Montenegro', 'Morocco', 'Mozambique', 'Myanmar -formerly Burma-', 'Namibia', 'Nauru', 'Nepal', 'Netherlands', 'New Zealand', 'Nicaragua', 'Niger', 'Nigeria', 'North Korea', 'North Macedonia', 'Norway', 'Oman', 'Pakistan', 'Palau', 'Palestine State', 'Panama', 'Papua New Guinea', 'Paraguay', 'Peru', 'Philippines', 'Poland', 'Portugal', 'Qatar', 'Romania', 'Russia', 'Rwanda', 'Saint Kitts and Nevis', 'Saint Lucia', 'Saint Vincent and the Grenadines', 'Samoa', 'San Marino', 'Sao Tome and Principe', 'Saudi Arabia', 'Senegal', 'Serbia', 'Seychelles', 'Sierra Leone', 'Singapore', 'Slovakia', 'Slovenia', 'Solomon Islands', 'Somalia', 'South Africa', 'South Korea', 'South Sudan', 'Spain', 'Sri Lanka', 'Sudan', 'Suriname', 'Sweden', 'Switzerland', 'Syria', 'Tajikistan', 'Tanzania', 'Thailand', 'Timor-Leste', 'Togo', 'Tonga', 'Trinidad and Tobago', 'Tunisia', 'Turkey', 'Turkmenistan', 'Tuvalu', 'Uganda', 'Ukraine', 'United Arab Emirates', 'United Kingdom', 'United States of America', 'Uruguay', 'Uzbekistan', 'Vanuatu', 'Venezuela', 'Vietnam', 'Yemen', 'Zambia', 'Zimbabwe']\n",
    "kraje = [\n",
    "    \"Western Sahara\",\n",
    "    \"Wallis and Futuna\",\n",
    "    \"Turks and Caicos\",\n",
    "    \"Tokelau\",\n",
    "    \"Taiwan\",\n",
    "    \"South Georgia and The South Sandwich Islands\",\n",
    "    \"Sint Maarten\",\n",
    "    \"Saint Pierre and Miquelon\",\n",
    "    \"Saint Helena\",\n",
    "    \"Saint Barthelemy\",\n",
    "    \"Reunion\",\n",
    "    \"Puerto Rico\",\n",
    "    \"Northern Mariana Islands\",\n",
    "    \"Niue\",\n",
    "    \"Netherlands Antilles\",\n",
    "    \"Montserrat\",\n",
    "    \"Mayotte\",\n",
    "    \"Martinique\",\n",
    "    \"Macau\",\n",
    "    \"Isle of Man\",\n",
    "    \"Hong Kong\",\n",
    "    \"Guam\",\n",
    "    \"Guadeloupe\",\n",
    "    \"Greenland\",\n",
    "    \"Gibraltar\",\n",
    "    \"French Polynesia\",\n",
    "    \"Faroe Islands\",\n",
    "    \"Falkland Islands\",\n",
    "    \"Curacao\",\n",
    "    \"Cook Islands\",\n",
    "    \"Cayman Islands\",\n",
    "    \"British Virgin Islands\",\n",
    "    \"Bermuda\",\n",
    "    \"Aruba\",\n",
    "    \"Anguilla\",\n",
    "    \"American Samoa\",\n",
    "]\n",
    "\n",
    "polaczona_lista = sorted(classes + kraje)\n",
    "print(polaczona_lista)"
   ]
  },
  {
   "cell_type": "code",
   "execution_count": 92,
   "metadata": {},
   "outputs": [
    {
     "name": "stdout",
     "output_type": "stream",
     "text": [
      "231\n"
     ]
    }
   ],
   "source": [
    "classes = ['Afghanistan', 'Albania', 'Algeria', 'American Samoa', 'Andorra', 'Angola', 'Anguilla', 'Antigua and Barbuda', 'Argentina', 'Armenia', 'Aruba', 'Australia', 'Austria', 'Azerbaijan', 'Bahamas', 'Bahrain', 'Bangladesh', 'Barbados', 'Belarus', 'Belgium', 'Belize', 'Benin', 'Bermuda', 'Bhutan', 'Bolivia', 'Bosnia and Herzegovina', 'Botswana', 'Brazil', 'British Virgin Islands', 'Brunei', 'Bulgaria', 'Burkina Faso', 'Burundi', 'CA-te d-Ivoire', 'Cabo Verde', 'Cambodia', 'Cameroon', 'Canada', 'Cayman Islands', 'Central African Republic', 'Chad', 'Chile', 'China', 'Colombia', 'Comoros', 'Congo -Congo-Brazzaville-', 'Cook Islands', 'Costa Rica', 'Croatia', 'Cuba', 'Curacao', 'Cyprus', 'Czechia -Czech Republic-', 'Democratic Republic of the Congo', 'Denmark', 'Djibouti', 'Dominica', 'Dominican Republic', 'Ecuador', 'Egypt', 'El Salvador', 'Equatorial Guinea', 'Eritrea', 'Estonia', 'Eswatini -fmr- -Swaziland--', 'Ethiopia', 'Falkland Islands', 'Faroe Islands', 'Fiji', 'Finland', 'France', 'French Polynesia', 'Gabon', 'Gambia', 'Georgia', 'Germany', 'Ghana', 'Gibraltar', 'Greece', 'Greenland', 'Grenada', 'Guadeloupe', 'Guam', 'Guatemala', 'Guinea', 'Guinea-Bissau', 'Guyana', 'Haiti', 'Holy See', 'Honduras', 'Hong Kong', 'Hungary', 'Iceland', 'India', 'Indonesia', 'Iran', 'Iraq', 'Ireland', 'Isle of Man', 'Israel', 'Italy', 'Jamaica', 'Japan', 'Jordan', 'Kazakhstan', 'Kenya', 'Kiribati', 'Kuwait', 'Kyrgyzstan', 'Laos', 'Latvia', 'Lebanon', 'Lesotho', 'Liberia', 'Libya', 'Liechtenstein', 'Lithuania', 'Luxembourg', 'Macau', 'Madagascar', 'Malawi', 'Malaysia', 'Maldives', 'Mali', 'Malta', 'Marshall Islands', 'Martinique', 'Mauritania', 'Mauritius', 'Mayotte', 'Mexico', 'Micronesia', 'Moldova', 'Monaco', 'Mongolia', 'Montenegro', 'Montserrat', 'Morocco', 'Mozambique', 'Myanmar -formerly Burma-', 'Namibia', 'Nauru', 'Nepal', 'Netherlands', 'Netherlands Antilles', 'New Zealand', 'Nicaragua', 'Niger', 'Nigeria', 'Niue', 'North Korea', 'North Macedonia', 'Northern Mariana Islands', 'Norway', 'Oman', 'Pakistan', 'Palau', 'Palestine State', 'Panama', 'Papua New Guinea', 'Paraguay', 'Peru', 'Philippines', 'Poland', 'Portugal', 'Puerto Rico', 'Qatar', 'Reunion', 'Romania', 'Russia', 'Rwanda', 'Saint Barthelemy', 'Saint Helena', 'Saint Kitts and Nevis', 'Saint Lucia', 'Saint Pierre and Miquelon', 'Saint Vincent and the Grenadines', 'Samoa', 'San Marino', 'Sao Tome and Principe', 'Saudi Arabia', 'Senegal', 'Serbia', 'Seychelles', 'Sierra Leone', 'Singapore', 'Sint Maarten', 'Slovakia', 'Slovenia', 'Solomon Islands', 'Somalia', 'South Africa', 'South Georgia and The South Sandwich Islands', 'South Korea', 'South Sudan', 'Spain', 'Sri Lanka', 'Sudan', 'Suriname', 'Sweden', 'Switzerland', 'Syria', 'Taiwan', 'Tajikistan', 'Tanzania', 'Thailand', 'Timor-Leste', 'Togo', 'Tokelau', 'Tonga', 'Trinidad and Tobago', 'Tunisia', 'Turkey', 'Turkmenistan', 'Turks and Caicos', 'Tuvalu', 'Uganda', 'Ukraine', 'United Arab Emirates', 'United Kingdom', 'United States of America', 'Uruguay', 'Uzbekistan', 'Vanuatu', 'Venezuela', 'Vietnam', 'Wallis and Futuna', 'Western Sahara', 'Yemen', 'Zambia', 'Zimbabwe']\n",
    "print(len(classes))"
   ]
  },
  {
   "cell_type": "code",
   "execution_count": null,
   "metadata": {},
   "outputs": [],
   "source": []
  }
 ],
 "metadata": {
  "kernelspec": {
   "display_name": ".venv",
   "language": "python",
   "name": "python3"
  },
  "language_info": {
   "codemirror_mode": {
    "name": "ipython",
    "version": 3
   },
   "file_extension": ".py",
   "mimetype": "text/x-python",
   "name": "python",
   "nbconvert_exporter": "python",
   "pygments_lexer": "ipython3",
   "version": "3.10.6"
  }
 },
 "nbformat": 4,
 "nbformat_minor": 2
}
