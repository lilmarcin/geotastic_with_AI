{
 "cells": [
  {
   "cell_type": "code",
   "execution_count": 1,
   "metadata": {},
   "outputs": [
    {
     "name": "stdout",
     "output_type": "stream",
     "text": [
      "Ultralytics YOLOv8.2.9  Python-3.10.6 torch-2.3.0+cpu CPU (Intel Core(TM) i5-4460  3.20GHz)\n",
      "YOLOv8n-cls summary (fused): 73 layers, 1730791 parameters, 0 gradients, 3.5 GFLOPs\n",
      "\u001b[34m\u001b[1mtrain:\u001b[0m E:\\pycharmik\\geotastic_with_AI\\datasets\\train... found 17043 images in 231 classes  \n",
      "\u001b[34m\u001b[1mval:\u001b[0m E:\\pycharmik\\geotastic_with_AI\\datasets\\val... found 2169 images in 231 classes  \n",
      "\u001b[34m\u001b[1mtest:\u001b[0m E:\\pycharmik\\geotastic_with_AI\\datasets\\test... found 586 images in 231 classes  \n"
     ]
    },
    {
     "name": "stderr",
     "output_type": "stream",
     "text": [
      "\u001b[34m\u001b[1mval: \u001b[0mScanning E:\\pycharmik\\geotastic_with_AI\\datasets\\val... 2169 images, 0 corrupt: 100%|██████████| 2169/2169 [00:00<?, ?it/s]\n",
      "               classes   top1_acc   top5_acc: 100%|██████████| 136/136 [00:35<00:00,  3.85it/s]\n"
     ]
    },
    {
     "name": "stdout",
     "output_type": "stream",
     "text": [
      "                   all      0.997          1\n",
      "Speed: 0.0ms preprocess, 7.1ms inference, 0.0ms loss, 0.0ms postprocess per image\n",
      "Results saved to \u001b[1mruns\\classify\\val\u001b[0m\n"
     ]
    },
    {
     "data": {
      "text/plain": [
       "<ultralytics.utils.metrics.ConfusionMatrix at 0x1b21215b1c0>"
      ]
     },
     "execution_count": 1,
     "metadata": {},
     "output_type": "execute_result"
    }
   ],
   "source": [
    "from ultralytics import YOLO\n",
    "\n",
    "# Load a model\n",
    "model = YOLO('yolov8n.pt')  # load an official model\n",
    "model = YOLO('runs/classify/train/weights/best.pt')  # load a custom model\n",
    "\n",
    "# Validate the model\n",
    "metrics = model.val()  # no arguments needed, dataset and settings remembered\n",
    "metrics.confusion_matrix"
   ]
  },
  {
   "cell_type": "code",
   "execution_count": 2,
   "metadata": {},
   "outputs": [
    {
     "name": "stdout",
     "output_type": "stream",
     "text": [
      "\n",
      "0: 224x224 Portugal 1.00, Tunisia 0.00, Algeria 0.00, Spain 0.00, Pakistan 0.00, 14.7ms\n",
      "1: 224x224 Poland 1.00, Chile 0.00, Czechia -Czech Republic- 0.00, Austria 0.00, Monaco 0.00, 14.7ms\n",
      "2: 224x224 Trinidad and Tobago 1.00, Namibia 0.00, Burundi 0.00, Guyana 0.00, Turkey 0.00, 14.7ms\n",
      "3: 224x224 Eswatini -fmr- -Swaziland-- 1.00, Comoros 0.00, Equatorial Guinea 0.00, Uganda 0.00, Zimbabwe 0.00, 14.7ms\n",
      "4: 224x224 Australia 1.00, New Zealand 0.00, Panama 0.00, Papua New Guinea 0.00, Micronesia 0.00, 14.7ms\n",
      "5: 224x224 Grenada 1.00, China 0.00, Sao Tome and Principe 0.00, Papua New Guinea 0.00, Antigua and Barbuda 0.00, 14.7ms\n",
      "Speed: 34.3ms preprocess, 14.7ms inference, 0.0ms postprocess per image at shape (1, 3, 224, 224)\n"
     ]
    }
   ],
   "source": [
    "import cv2\n",
    "from ultralytics import YOLO\n",
    "from PIL import Image\n",
    "\n",
    "# Load a model\n",
    "model = YOLO('runs/classify/train6/weights/best.pt')  # best trained YOLOv8n model\n",
    "\n",
    "# Run batched inference on a list of images\n",
    "results = model(['examples/example1.png', 'examples/example2.png', 'examples/example3.png', 'examples/example4.png', 'examples/example5.png', 'examples/example6.png'], stream=True)  # return a generator of Results objects\n",
    "\n",
    "# Process results generator\n",
    "for result in results:\n",
    "    boxes = result.boxes  # Boxes object for bbox outputs\n",
    "    masks = result.masks  # Masks object for segmentation masks outputs\n",
    "    keypoints = result.keypoints  # Keypoints object for pose outputs\n",
    "    probs = result.probs  # Probs object for classification outputs\n",
    "    im_array = result.plot()  # plot a BGR numpy array of predictions\n",
    "    im = Image.fromarray(im_array[..., ::-1])  # RGB PIL image\n",
    "    im.show()  # show image"
   ]
  },
  {
   "cell_type": "code",
   "execution_count": 3,
   "metadata": {},
   "outputs": [
    {
     "name": "stdout",
     "output_type": "stream",
     "text": [
      "\n",
      "image 1/1 e:\\pycharmik\\geotastic_with_AI\\examples\\example2.png: 224x224 Poland 1.00, Chile 0.00, Austria 0.00, Gibraltar 0.00, Greenland 0.00, 19.0ms\n",
      "Speed: 7.0ms preprocess, 19.0ms inference, 0.0ms postprocess per image at shape (1, 3, 224, 224)\n",
      "number, 163\n",
      "Top 1 Class Name : Poland\n"
     ]
    }
   ],
   "source": [
    "import cv2\n",
    "from ultralytics import YOLO\n",
    "import numpy as np\n",
    "\n",
    "# Load a model\n",
    "model = YOLO('runs/classify/train/weights/best.pt')  # best trained YOLOv8n model\n",
    "\n",
    "# Run batched inference on a list of images\n",
    "#results = model(['examples/example1.png', 'examples/example2.png', 'examples/example3.png', 'examples/example4.png', 'examples/example5.png', 'examples/example6.png'], stream=True)  # return a generator of Results objects\n",
    "results = model('examples/example2.png')\n",
    "names = results[0].names\n",
    "probs = results[0].probs.top1\n",
    "print(f\"number, {probs}\")\n",
    "print(f\"Top 1 Class Name : {names[probs]}\")\n",
    "\n"
   ]
  }
 ],
 "metadata": {
  "kernelspec": {
   "display_name": ".venv",
   "language": "python",
   "name": "python3"
  },
  "language_info": {
   "codemirror_mode": {
    "name": "ipython",
    "version": 3
   },
   "file_extension": ".py",
   "mimetype": "text/x-python",
   "name": "python",
   "nbconvert_exporter": "python",
   "pygments_lexer": "ipython3",
   "version": "3.10.6"
  }
 },
 "nbformat": 4,
 "nbformat_minor": 2
}
